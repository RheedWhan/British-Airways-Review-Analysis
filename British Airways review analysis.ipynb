{
 "cells": [
  {
   "cell_type": "code",
   "execution_count": 1,
   "metadata": {},
   "outputs": [
    {
     "name": "stdout",
     "output_type": "stream",
     "text": [
      "Note: you may need to restart the kernel to use updated packages.\n"
     ]
    }
   ],
   "source": [
    "pip install matplotlib --quiet"
   ]
  },
  {
   "cell_type": "code",
   "execution_count": 2,
   "metadata": {},
   "outputs": [
    {
     "name": "stdout",
     "output_type": "stream",
     "text": [
      "Requirement already satisfied: pip in c:\\users\\ojo ridwan\\appdata\\local\\programs\\python\\python311\\lib\\site-packages (23.2.1)\n",
      "Note: you may need to restart the kernel to use updated packages.\n"
     ]
    }
   ],
   "source": [
    "pip install --upgrade pip"
   ]
  },
  {
   "cell_type": "code",
   "execution_count": 3,
   "metadata": {},
   "outputs": [
    {
     "name": "stdout",
     "output_type": "stream",
     "text": [
      "Note: you may need to restart the kernel to use updated packages.\n"
     ]
    }
   ],
   "source": [
    "pip install pandas --quiet"
   ]
  },
  {
   "cell_type": "code",
   "execution_count": 4,
   "metadata": {},
   "outputs": [
    {
     "name": "stdout",
     "output_type": "stream",
     "text": [
      "Note: you may need to restart the kernel to use updated packages.\n"
     ]
    }
   ],
   "source": [
    "pip install seaborn --quiet"
   ]
  },
  {
   "cell_type": "code",
   "execution_count": 5,
   "metadata": {},
   "outputs": [],
   "source": [
    "import numpy as np\n",
    "import matplotlib.pyplot as plt\n",
    "import pandas as pd\n",
    "import seaborn as sns"
   ]
  },
  {
   "cell_type": "code",
   "execution_count": 6,
   "metadata": {},
   "outputs": [
    {
     "data": {
      "text/html": [
       "<div>\n",
       "<style scoped>\n",
       "    .dataframe tbody tr th:only-of-type {\n",
       "        vertical-align: middle;\n",
       "    }\n",
       "\n",
       "    .dataframe tbody tr th {\n",
       "        vertical-align: top;\n",
       "    }\n",
       "\n",
       "    .dataframe thead th {\n",
       "        text-align: right;\n",
       "    }\n",
       "</style>\n",
       "<table border=\"1\" class=\"dataframe\">\n",
       "  <thead>\n",
       "    <tr style=\"text-align: right;\">\n",
       "      <th></th>\n",
       "      <th>num_passengers</th>\n",
       "      <th>sales_channel</th>\n",
       "      <th>trip_type</th>\n",
       "      <th>purchase_lead</th>\n",
       "      <th>length_of_stay</th>\n",
       "      <th>flight_hour</th>\n",
       "      <th>flight_day</th>\n",
       "      <th>route</th>\n",
       "      <th>booking_origin</th>\n",
       "      <th>wants_extra_baggage</th>\n",
       "      <th>wants_preferred_seat</th>\n",
       "      <th>wants_in_flight_meals</th>\n",
       "      <th>flight_duration</th>\n",
       "      <th>booking_complete</th>\n",
       "    </tr>\n",
       "  </thead>\n",
       "  <tbody>\n",
       "    <tr>\n",
       "      <th>0</th>\n",
       "      <td>2</td>\n",
       "      <td>Internet</td>\n",
       "      <td>RoundTrip</td>\n",
       "      <td>262</td>\n",
       "      <td>19</td>\n",
       "      <td>7</td>\n",
       "      <td>Sat</td>\n",
       "      <td>AKLDEL</td>\n",
       "      <td>New Zealand</td>\n",
       "      <td>1</td>\n",
       "      <td>0</td>\n",
       "      <td>0</td>\n",
       "      <td>5.52</td>\n",
       "      <td>0</td>\n",
       "    </tr>\n",
       "    <tr>\n",
       "      <th>1</th>\n",
       "      <td>1</td>\n",
       "      <td>Internet</td>\n",
       "      <td>RoundTrip</td>\n",
       "      <td>112</td>\n",
       "      <td>20</td>\n",
       "      <td>3</td>\n",
       "      <td>Sat</td>\n",
       "      <td>AKLDEL</td>\n",
       "      <td>New Zealand</td>\n",
       "      <td>0</td>\n",
       "      <td>0</td>\n",
       "      <td>0</td>\n",
       "      <td>5.52</td>\n",
       "      <td>0</td>\n",
       "    </tr>\n",
       "    <tr>\n",
       "      <th>2</th>\n",
       "      <td>2</td>\n",
       "      <td>Internet</td>\n",
       "      <td>RoundTrip</td>\n",
       "      <td>243</td>\n",
       "      <td>22</td>\n",
       "      <td>17</td>\n",
       "      <td>Wed</td>\n",
       "      <td>AKLDEL</td>\n",
       "      <td>India</td>\n",
       "      <td>1</td>\n",
       "      <td>1</td>\n",
       "      <td>0</td>\n",
       "      <td>5.52</td>\n",
       "      <td>0</td>\n",
       "    </tr>\n",
       "    <tr>\n",
       "      <th>3</th>\n",
       "      <td>1</td>\n",
       "      <td>Internet</td>\n",
       "      <td>RoundTrip</td>\n",
       "      <td>96</td>\n",
       "      <td>31</td>\n",
       "      <td>4</td>\n",
       "      <td>Sat</td>\n",
       "      <td>AKLDEL</td>\n",
       "      <td>New Zealand</td>\n",
       "      <td>0</td>\n",
       "      <td>0</td>\n",
       "      <td>1</td>\n",
       "      <td>5.52</td>\n",
       "      <td>0</td>\n",
       "    </tr>\n",
       "    <tr>\n",
       "      <th>4</th>\n",
       "      <td>2</td>\n",
       "      <td>Internet</td>\n",
       "      <td>RoundTrip</td>\n",
       "      <td>68</td>\n",
       "      <td>22</td>\n",
       "      <td>15</td>\n",
       "      <td>Wed</td>\n",
       "      <td>AKLDEL</td>\n",
       "      <td>India</td>\n",
       "      <td>1</td>\n",
       "      <td>0</td>\n",
       "      <td>1</td>\n",
       "      <td>5.52</td>\n",
       "      <td>0</td>\n",
       "    </tr>\n",
       "  </tbody>\n",
       "</table>\n",
       "</div>"
      ],
      "text/plain": [
       "   num_passengers sales_channel  trip_type  purchase_lead  length_of_stay  \\\n",
       "0               2      Internet  RoundTrip            262              19   \n",
       "1               1      Internet  RoundTrip            112              20   \n",
       "2               2      Internet  RoundTrip            243              22   \n",
       "3               1      Internet  RoundTrip             96              31   \n",
       "4               2      Internet  RoundTrip             68              22   \n",
       "\n",
       "   flight_hour flight_day   route booking_origin  wants_extra_baggage  \\\n",
       "0            7        Sat  AKLDEL    New Zealand                    1   \n",
       "1            3        Sat  AKLDEL    New Zealand                    0   \n",
       "2           17        Wed  AKLDEL          India                    1   \n",
       "3            4        Sat  AKLDEL    New Zealand                    0   \n",
       "4           15        Wed  AKLDEL          India                    1   \n",
       "\n",
       "   wants_preferred_seat  wants_in_flight_meals  flight_duration  \\\n",
       "0                     0                      0             5.52   \n",
       "1                     0                      0             5.52   \n",
       "2                     1                      0             5.52   \n",
       "3                     0                      1             5.52   \n",
       "4                     0                      1             5.52   \n",
       "\n",
       "   booking_complete  \n",
       "0                 0  \n",
       "1                 0  \n",
       "2                 0  \n",
       "3                 0  \n",
       "4                 0  "
      ]
     },
     "execution_count": 6,
     "metadata": {},
     "output_type": "execute_result"
    }
   ],
   "source": [
    "file_path = 'C:\\\\Users\\\\Ojo Ridwan\\\\Downloads\\\\customer_booking (1).csv'\n",
    "df = pd.read_csv(file_path, encoding=\"ISO-8859-1\")\n",
    "\n",
    "df.head()"
   ]
  },
  {
   "cell_type": "markdown",
   "metadata": {},
   "source": [
    "To provide more context, below is a more detailed data description, explaining exactly what each column means:\n",
    "\n",
    "- `num_passengers` = number of passengers travelling\n",
    "- `sales_channel` = sales channel booking was made on\n",
    "- `trip_type` = trip Type (Round Trip, One Way, Circle Trip)\n",
    "- `purchase_lead` = number of days between travel date and booking date\n",
    "- `length_of_stay` = number of days spent at destination\n",
    "- `flight_hour` = hour of flight departure\n",
    "- `flight_day` = day of week of flight departure\n",
    "- `route` = origin -> destination flight route\n",
    "- `booking_origin` = country from where booking was made\n",
    "- `wants_extra_baggage` = if the customer wanted extra baggage in the booking\n",
    "- `wants_preferred_seat` = if the customer wanted a preferred seat in the booking\n",
    "- `wants_in_flight_meals` = if the customer wanted in-flight meals in the booking\n",
    "- `flight_duration` = total duration of flight (in hours)\n",
    "- `booking_complete` = flag indicating if the customer completed the booking\n",
    "\n",
    "Before we compute any statistics on the data, lets do any necessary data conversion"
   ]
  },
  {
   "cell_type": "code",
   "execution_count": 7,
   "metadata": {},
   "outputs": [
    {
     "name": "stdout",
     "output_type": "stream",
     "text": [
      "<class 'pandas.core.frame.DataFrame'>\n",
      "RangeIndex: 50000 entries, 0 to 49999\n",
      "Data columns (total 14 columns):\n",
      " #   Column                 Non-Null Count  Dtype  \n",
      "---  ------                 --------------  -----  \n",
      " 0   num_passengers         50000 non-null  int64  \n",
      " 1   sales_channel          50000 non-null  object \n",
      " 2   trip_type              50000 non-null  object \n",
      " 3   purchase_lead          50000 non-null  int64  \n",
      " 4   length_of_stay         50000 non-null  int64  \n",
      " 5   flight_hour            50000 non-null  int64  \n",
      " 6   flight_day             50000 non-null  object \n",
      " 7   route                  50000 non-null  object \n",
      " 8   booking_origin         50000 non-null  object \n",
      " 9   wants_extra_baggage    50000 non-null  int64  \n",
      " 10  wants_preferred_seat   50000 non-null  int64  \n",
      " 11  wants_in_flight_meals  50000 non-null  int64  \n",
      " 12  flight_duration        50000 non-null  float64\n",
      " 13  booking_complete       50000 non-null  int64  \n",
      "dtypes: float64(1), int64(8), object(5)\n",
      "memory usage: 5.3+ MB\n"
     ]
    }
   ],
   "source": [
    "df.info()"
   ]
  },
  {
   "cell_type": "code",
   "execution_count": 8,
   "metadata": {},
   "outputs": [
    {
     "data": {
      "text/plain": [
       "num_passengers           0\n",
       "sales_channel            0\n",
       "trip_type                0\n",
       "purchase_lead            0\n",
       "length_of_stay           0\n",
       "flight_hour              0\n",
       "flight_day               0\n",
       "route                    0\n",
       "booking_origin           0\n",
       "wants_extra_baggage      0\n",
       "wants_preferred_seat     0\n",
       "wants_in_flight_meals    0\n",
       "flight_duration          0\n",
       "booking_complete         0\n",
       "dtype: int64"
      ]
     },
     "execution_count": 8,
     "metadata": {},
     "output_type": "execute_result"
    }
   ],
   "source": [
    "df.isna().sum()"
   ]
  },
  {
   "cell_type": "code",
   "execution_count": 9,
   "metadata": {},
   "outputs": [
    {
     "data": {
      "text/plain": [
       "array(['Sat', 'Wed', 'Thu', 'Mon', 'Sun', 'Tue', 'Fri'], dtype=object)"
      ]
     },
     "execution_count": 9,
     "metadata": {},
     "output_type": "execute_result"
    }
   ],
   "source": [
    "df['flight_day'].unique()"
   ]
  },
  {
   "cell_type": "code",
   "execution_count": 10,
   "metadata": {},
   "outputs": [
    {
     "data": {
      "text/plain": [
       "array([6, 3, 4, 1, 7, 2, 5], dtype=int64)"
      ]
     },
     "execution_count": 10,
     "metadata": {},
     "output_type": "execute_result"
    }
   ],
   "source": [
    "mapping = {\n",
    "    'Mon': 1,\n",
    "    'Tue': 2,\n",
    "    'Wed': 3,\n",
    "    'Thu': 4,\n",
    "    'Fri': 5,\n",
    "    'Sat': 6,\n",
    "    'Sun': 7,\n",
    "}\n",
    "\n",
    "df['flight_day'] = df['flight_day'].map(mapping)\n",
    "\n",
    "df['flight_day'].unique()"
   ]
  },
  {
   "cell_type": "code",
   "execution_count": 11,
   "metadata": {},
   "outputs": [
    {
     "data": {
      "text/html": [
       "<div>\n",
       "<style scoped>\n",
       "    .dataframe tbody tr th:only-of-type {\n",
       "        vertical-align: middle;\n",
       "    }\n",
       "\n",
       "    .dataframe tbody tr th {\n",
       "        vertical-align: top;\n",
       "    }\n",
       "\n",
       "    .dataframe thead th {\n",
       "        text-align: right;\n",
       "    }\n",
       "</style>\n",
       "<table border=\"1\" class=\"dataframe\">\n",
       "  <thead>\n",
       "    <tr style=\"text-align: right;\">\n",
       "      <th></th>\n",
       "      <th>num_passengers</th>\n",
       "      <th>purchase_lead</th>\n",
       "      <th>length_of_stay</th>\n",
       "      <th>flight_hour</th>\n",
       "      <th>flight_day</th>\n",
       "      <th>wants_extra_baggage</th>\n",
       "      <th>wants_preferred_seat</th>\n",
       "      <th>wants_in_flight_meals</th>\n",
       "      <th>flight_duration</th>\n",
       "      <th>booking_complete</th>\n",
       "    </tr>\n",
       "  </thead>\n",
       "  <tbody>\n",
       "    <tr>\n",
       "      <th>count</th>\n",
       "      <td>50000.000000</td>\n",
       "      <td>50000.000000</td>\n",
       "      <td>50000.00000</td>\n",
       "      <td>50000.00000</td>\n",
       "      <td>50000.000000</td>\n",
       "      <td>50000.000000</td>\n",
       "      <td>50000.000000</td>\n",
       "      <td>50000.000000</td>\n",
       "      <td>50000.000000</td>\n",
       "      <td>50000.000000</td>\n",
       "    </tr>\n",
       "    <tr>\n",
       "      <th>mean</th>\n",
       "      <td>1.591240</td>\n",
       "      <td>84.940480</td>\n",
       "      <td>23.04456</td>\n",
       "      <td>9.06634</td>\n",
       "      <td>3.814420</td>\n",
       "      <td>0.668780</td>\n",
       "      <td>0.296960</td>\n",
       "      <td>0.427140</td>\n",
       "      <td>7.277561</td>\n",
       "      <td>0.149560</td>\n",
       "    </tr>\n",
       "    <tr>\n",
       "      <th>std</th>\n",
       "      <td>1.020165</td>\n",
       "      <td>90.451378</td>\n",
       "      <td>33.88767</td>\n",
       "      <td>5.41266</td>\n",
       "      <td>1.992792</td>\n",
       "      <td>0.470657</td>\n",
       "      <td>0.456923</td>\n",
       "      <td>0.494668</td>\n",
       "      <td>1.496863</td>\n",
       "      <td>0.356643</td>\n",
       "    </tr>\n",
       "    <tr>\n",
       "      <th>min</th>\n",
       "      <td>1.000000</td>\n",
       "      <td>0.000000</td>\n",
       "      <td>0.00000</td>\n",
       "      <td>0.00000</td>\n",
       "      <td>1.000000</td>\n",
       "      <td>0.000000</td>\n",
       "      <td>0.000000</td>\n",
       "      <td>0.000000</td>\n",
       "      <td>4.670000</td>\n",
       "      <td>0.000000</td>\n",
       "    </tr>\n",
       "    <tr>\n",
       "      <th>25%</th>\n",
       "      <td>1.000000</td>\n",
       "      <td>21.000000</td>\n",
       "      <td>5.00000</td>\n",
       "      <td>5.00000</td>\n",
       "      <td>2.000000</td>\n",
       "      <td>0.000000</td>\n",
       "      <td>0.000000</td>\n",
       "      <td>0.000000</td>\n",
       "      <td>5.620000</td>\n",
       "      <td>0.000000</td>\n",
       "    </tr>\n",
       "    <tr>\n",
       "      <th>50%</th>\n",
       "      <td>1.000000</td>\n",
       "      <td>51.000000</td>\n",
       "      <td>17.00000</td>\n",
       "      <td>9.00000</td>\n",
       "      <td>4.000000</td>\n",
       "      <td>1.000000</td>\n",
       "      <td>0.000000</td>\n",
       "      <td>0.000000</td>\n",
       "      <td>7.570000</td>\n",
       "      <td>0.000000</td>\n",
       "    </tr>\n",
       "    <tr>\n",
       "      <th>75%</th>\n",
       "      <td>2.000000</td>\n",
       "      <td>115.000000</td>\n",
       "      <td>28.00000</td>\n",
       "      <td>13.00000</td>\n",
       "      <td>5.000000</td>\n",
       "      <td>1.000000</td>\n",
       "      <td>1.000000</td>\n",
       "      <td>1.000000</td>\n",
       "      <td>8.830000</td>\n",
       "      <td>0.000000</td>\n",
       "    </tr>\n",
       "    <tr>\n",
       "      <th>max</th>\n",
       "      <td>9.000000</td>\n",
       "      <td>867.000000</td>\n",
       "      <td>778.00000</td>\n",
       "      <td>23.00000</td>\n",
       "      <td>7.000000</td>\n",
       "      <td>1.000000</td>\n",
       "      <td>1.000000</td>\n",
       "      <td>1.000000</td>\n",
       "      <td>9.500000</td>\n",
       "      <td>1.000000</td>\n",
       "    </tr>\n",
       "  </tbody>\n",
       "</table>\n",
       "</div>"
      ],
      "text/plain": [
       "       num_passengers  purchase_lead  length_of_stay  flight_hour  \\\n",
       "count    50000.000000   50000.000000     50000.00000  50000.00000   \n",
       "mean         1.591240      84.940480        23.04456      9.06634   \n",
       "std          1.020165      90.451378        33.88767      5.41266   \n",
       "min          1.000000       0.000000         0.00000      0.00000   \n",
       "25%          1.000000      21.000000         5.00000      5.00000   \n",
       "50%          1.000000      51.000000        17.00000      9.00000   \n",
       "75%          2.000000     115.000000        28.00000     13.00000   \n",
       "max          9.000000     867.000000       778.00000     23.00000   \n",
       "\n",
       "         flight_day  wants_extra_baggage  wants_preferred_seat  \\\n",
       "count  50000.000000         50000.000000          50000.000000   \n",
       "mean       3.814420             0.668780              0.296960   \n",
       "std        1.992792             0.470657              0.456923   \n",
       "min        1.000000             0.000000              0.000000   \n",
       "25%        2.000000             0.000000              0.000000   \n",
       "50%        4.000000             1.000000              0.000000   \n",
       "75%        5.000000             1.000000              1.000000   \n",
       "max        7.000000             1.000000              1.000000   \n",
       "\n",
       "       wants_in_flight_meals  flight_duration  booking_complete  \n",
       "count           50000.000000     50000.000000      50000.000000  \n",
       "mean                0.427140         7.277561          0.149560  \n",
       "std                 0.494668         1.496863          0.356643  \n",
       "min                 0.000000         4.670000          0.000000  \n",
       "25%                 0.000000         5.620000          0.000000  \n",
       "50%                 0.000000         7.570000          0.000000  \n",
       "75%                 1.000000         8.830000          0.000000  \n",
       "max                 1.000000         9.500000          1.000000  "
      ]
     },
     "execution_count": 11,
     "metadata": {},
     "output_type": "execute_result"
    }
   ],
   "source": [
    "df.describe()"
   ]
  },
  {
   "cell_type": "markdown",
   "metadata": {},
   "source": [
    "### Outliers"
   ]
  },
  {
   "cell_type": "markdown",
   "metadata": {},
   "source": [
    "We notice there are some outliers in the overall data, especially in columns like 'num_passengers', 'purchase_lead', and 'length_of_stay'. Let visualize the whole data using boxplot to see the outliers better"
   ]
  },
  {
   "cell_type": "code",
   "execution_count": 12,
   "metadata": {},
   "outputs": [
    {
     "data": {
      "image/png": "[encoded data removed]",
      "text/plain": [
       "<Figure size 2000x500 with 1 Axes>"
      ]
     },
     "metadata": {},
     "output_type": "display_data"
    }
   ],
   "source": [
    "plt.figure(figsize = (20, 5))\n",
    "sns.boxplot(data = df)\n",
    "plt.show()"
   ]
  },
  {
   "cell_type": "code",
   "execution_count": 13,
   "metadata": {},
   "outputs": [],
   "source": [
    "# Replacing the outliers with the median using the interquartile range\n",
    "\n",
    "column_list = ['num_passengers', 'purchase_lead', 'length_of_stay', 'flight_hour',\n",
    "       'wants_extra_baggage', 'wants_preferred_seat', 'wants_in_flight_meals',\n",
    "       'flight_duration']\n",
    "\n",
    "\n",
    "for feature in column_list:\n",
    "    Q1 = df[feature].quantile(0.25)\n",
    "    Q3 = df[feature].quantile(0.75)\n",
    "    IQR = Q3 - Q1\n",
    "    \n",
    "    \n",
    "    lower_limit = Q1 - 1.5 * IQR\n",
    "    \n",
    "    upper_limit = Q3 + 1.5 * IQR\n",
    "  \n",
    "    \n",
    "    median = df[feature].median()\n",
    "    \n",
    "    \n",
    "    df[feature] = np.where(df[feature]< lower_limit, median,df[feature])\n",
    "    df[feature] = np.where(df[feature]> upper_limit, median,df[feature])"
   ]
  },
  {
   "cell_type": "code",
   "execution_count": 14,
   "metadata": {},
   "outputs": [
    {
     "data": {
      "image/png": "[encoded data removed]",
      "text/plain": [
       "<Figure size 2000x500 with 1 Axes>"
      ]
     },
     "metadata": {},
     "output_type": "display_data"
    }
   ],
   "source": [
    "# Checking for the outliers again\n",
    "\n",
    "plt.figure(figsize = (20, 5))\n",
    "sns.boxplot(data = df)\n",
    "plt.show()"
   ]
  },
  {
   "cell_type": "code",
   "execution_count": 15,
   "metadata": {},
   "outputs": [
    {
     "data": {
      "text/html": [
       "<div>\n",
       "<style scoped>\n",
       "    .dataframe tbody tr th:only-of-type {\n",
       "        vertical-align: middle;\n",
       "    }\n",
       "\n",
       "    .dataframe tbody tr th {\n",
       "        vertical-align: top;\n",
       "    }\n",
       "\n",
       "    .dataframe thead th {\n",
       "        text-align: right;\n",
       "    }\n",
       "</style>\n",
       "<table border=\"1\" class=\"dataframe\">\n",
       "  <thead>\n",
       "    <tr style=\"text-align: right;\">\n",
       "      <th></th>\n",
       "      <th>num_passengers</th>\n",
       "      <th>purchase_lead</th>\n",
       "      <th>length_of_stay</th>\n",
       "      <th>flight_hour</th>\n",
       "      <th>flight_day</th>\n",
       "      <th>wants_extra_baggage</th>\n",
       "      <th>wants_preferred_seat</th>\n",
       "      <th>wants_in_flight_meals</th>\n",
       "      <th>flight_duration</th>\n",
       "      <th>booking_complete</th>\n",
       "    </tr>\n",
       "  </thead>\n",
       "  <tbody>\n",
       "    <tr>\n",
       "      <th>count</th>\n",
       "      <td>50000.000000</td>\n",
       "      <td>50000.00000</td>\n",
       "      <td>50000.000000</td>\n",
       "      <td>50000.00000</td>\n",
       "      <td>50000.000000</td>\n",
       "      <td>50000.000000</td>\n",
       "      <td>50000.000000</td>\n",
       "      <td>50000.000000</td>\n",
       "      <td>50000.000000</td>\n",
       "      <td>50000.000000</td>\n",
       "    </tr>\n",
       "    <tr>\n",
       "      <th>mean</th>\n",
       "      <td>1.373720</td>\n",
       "      <td>65.80848</td>\n",
       "      <td>15.878960</td>\n",
       "      <td>9.06634</td>\n",
       "      <td>3.814420</td>\n",
       "      <td>0.668780</td>\n",
       "      <td>0.296960</td>\n",
       "      <td>0.427140</td>\n",
       "      <td>7.277561</td>\n",
       "      <td>0.149560</td>\n",
       "    </tr>\n",
       "    <tr>\n",
       "      <th>std</th>\n",
       "      <td>0.593043</td>\n",
       "      <td>60.15311</td>\n",
       "      <td>13.501474</td>\n",
       "      <td>5.41266</td>\n",
       "      <td>1.992792</td>\n",
       "      <td>0.470657</td>\n",
       "      <td>0.456923</td>\n",
       "      <td>0.494668</td>\n",
       "      <td>1.496863</td>\n",
       "      <td>0.356643</td>\n",
       "    </tr>\n",
       "    <tr>\n",
       "      <th>min</th>\n",
       "      <td>1.000000</td>\n",
       "      <td>0.00000</td>\n",
       "      <td>0.000000</td>\n",
       "      <td>0.00000</td>\n",
       "      <td>1.000000</td>\n",
       "      <td>0.000000</td>\n",
       "      <td>0.000000</td>\n",
       "      <td>0.000000</td>\n",
       "      <td>4.670000</td>\n",
       "      <td>0.000000</td>\n",
       "    </tr>\n",
       "    <tr>\n",
       "      <th>25%</th>\n",
       "      <td>1.000000</td>\n",
       "      <td>21.00000</td>\n",
       "      <td>5.000000</td>\n",
       "      <td>5.00000</td>\n",
       "      <td>2.000000</td>\n",
       "      <td>0.000000</td>\n",
       "      <td>0.000000</td>\n",
       "      <td>0.000000</td>\n",
       "      <td>5.620000</td>\n",
       "      <td>0.000000</td>\n",
       "    </tr>\n",
       "    <tr>\n",
       "      <th>50%</th>\n",
       "      <td>1.000000</td>\n",
       "      <td>51.00000</td>\n",
       "      <td>17.000000</td>\n",
       "      <td>9.00000</td>\n",
       "      <td>4.000000</td>\n",
       "      <td>1.000000</td>\n",
       "      <td>0.000000</td>\n",
       "      <td>0.000000</td>\n",
       "      <td>7.570000</td>\n",
       "      <td>0.000000</td>\n",
       "    </tr>\n",
       "    <tr>\n",
       "      <th>75%</th>\n",
       "      <td>2.000000</td>\n",
       "      <td>90.00000</td>\n",
       "      <td>23.000000</td>\n",
       "      <td>13.00000</td>\n",
       "      <td>5.000000</td>\n",
       "      <td>1.000000</td>\n",
       "      <td>1.000000</td>\n",
       "      <td>1.000000</td>\n",
       "      <td>8.830000</td>\n",
       "      <td>0.000000</td>\n",
       "    </tr>\n",
       "    <tr>\n",
       "      <th>max</th>\n",
       "      <td>3.000000</td>\n",
       "      <td>256.00000</td>\n",
       "      <td>62.000000</td>\n",
       "      <td>23.00000</td>\n",
       "      <td>7.000000</td>\n",
       "      <td>1.000000</td>\n",
       "      <td>1.000000</td>\n",
       "      <td>1.000000</td>\n",
       "      <td>9.500000</td>\n",
       "      <td>1.000000</td>\n",
       "    </tr>\n",
       "  </tbody>\n",
       "</table>\n",
       "</div>"
      ],
      "text/plain": [
       "       num_passengers  purchase_lead  length_of_stay  flight_hour  \\\n",
       "count    50000.000000    50000.00000    50000.000000  50000.00000   \n",
       "mean         1.373720       65.80848       15.878960      9.06634   \n",
       "std          0.593043       60.15311       13.501474      5.41266   \n",
       "min          1.000000        0.00000        0.000000      0.00000   \n",
       "25%          1.000000       21.00000        5.000000      5.00000   \n",
       "50%          1.000000       51.00000       17.000000      9.00000   \n",
       "75%          2.000000       90.00000       23.000000     13.00000   \n",
       "max          3.000000      256.00000       62.000000     23.00000   \n",
       "\n",
       "         flight_day  wants_extra_baggage  wants_preferred_seat  \\\n",
       "count  50000.000000         50000.000000          50000.000000   \n",
       "mean       3.814420             0.668780              0.296960   \n",
       "std        1.992792             0.470657              0.456923   \n",
       "min        1.000000             0.000000              0.000000   \n",
       "25%        2.000000             0.000000              0.000000   \n",
       "50%        4.000000             1.000000              0.000000   \n",
       "75%        5.000000             1.000000              1.000000   \n",
       "max        7.000000             1.000000              1.000000   \n",
       "\n",
       "       wants_in_flight_meals  flight_duration  booking_complete  \n",
       "count           50000.000000     50000.000000      50000.000000  \n",
       "mean                0.427140         7.277561          0.149560  \n",
       "std                 0.494668         1.496863          0.356643  \n",
       "min                 0.000000         4.670000          0.000000  \n",
       "25%                 0.000000         5.620000          0.000000  \n",
       "50%                 0.000000         7.570000          0.000000  \n",
       "75%                 1.000000         8.830000          0.000000  \n",
       "max                 1.000000         9.500000          1.000000  "
      ]
     },
     "execution_count": 15,
     "metadata": {},
     "output_type": "execute_result"
    }
   ],
   "source": [
    "df.describe()"
   ]
  },
  {
   "cell_type": "markdown",
   "metadata": {},
   "source": [
    "### Correlation Matrix"
   ]
  },
  {
   "cell_type": "code",
   "execution_count": 16,
   "metadata": {},
   "outputs": [
    {
     "data": {
      "text/html": [
       "<div>\n",
       "<style scoped>\n",
       "    .dataframe tbody tr th:only-of-type {\n",
       "        vertical-align: middle;\n",
       "    }\n",
       "\n",
       "    .dataframe tbody tr th {\n",
       "        vertical-align: top;\n",
       "    }\n",
       "\n",
       "    .dataframe thead th {\n",
       "        text-align: right;\n",
       "    }\n",
       "</style>\n",
       "<table border=\"1\" class=\"dataframe\">\n",
       "  <thead>\n",
       "    <tr style=\"text-align: right;\">\n",
       "      <th></th>\n",
       "      <th>num_passengers</th>\n",
       "      <th>purchase_lead</th>\n",
       "      <th>length_of_stay</th>\n",
       "      <th>flight_hour</th>\n",
       "      <th>flight_day</th>\n",
       "      <th>wants_extra_baggage</th>\n",
       "      <th>wants_preferred_seat</th>\n",
       "      <th>wants_in_flight_meals</th>\n",
       "      <th>flight_duration</th>\n",
       "      <th>booking_complete</th>\n",
       "    </tr>\n",
       "  </thead>\n",
       "  <tbody>\n",
       "    <tr>\n",
       "      <th>num_passengers</th>\n",
       "      <td>1.000000</td>\n",
       "      <td>0.150551</td>\n",
       "      <td>-0.096334</td>\n",
       "      <td>0.012464</td>\n",
       "      <td>0.013551</td>\n",
       "      <td>0.093164</td>\n",
       "      <td>0.043474</td>\n",
       "      <td>0.010940</td>\n",
       "      <td>-0.034435</td>\n",
       "      <td>0.022536</td>\n",
       "    </tr>\n",
       "    <tr>\n",
       "      <th>purchase_lead</th>\n",
       "      <td>0.150551</td>\n",
       "      <td>1.000000</td>\n",
       "      <td>0.034589</td>\n",
       "      <td>0.030490</td>\n",
       "      <td>0.029664</td>\n",
       "      <td>0.020892</td>\n",
       "      <td>0.014663</td>\n",
       "      <td>0.014664</td>\n",
       "      <td>0.072161</td>\n",
       "      <td>-0.028453</td>\n",
       "    </tr>\n",
       "    <tr>\n",
       "      <th>length_of_stay</th>\n",
       "      <td>-0.096334</td>\n",
       "      <td>0.034589</td>\n",
       "      <td>1.000000</td>\n",
       "      <td>-0.037611</td>\n",
       "      <td>0.003520</td>\n",
       "      <td>0.232762</td>\n",
       "      <td>0.011302</td>\n",
       "      <td>0.103878</td>\n",
       "      <td>0.176257</td>\n",
       "      <td>-0.094614</td>\n",
       "    </tr>\n",
       "    <tr>\n",
       "      <th>flight_hour</th>\n",
       "      <td>0.012464</td>\n",
       "      <td>0.030490</td>\n",
       "      <td>-0.037611</td>\n",
       "      <td>1.000000</td>\n",
       "      <td>0.024086</td>\n",
       "      <td>-0.011434</td>\n",
       "      <td>0.012171</td>\n",
       "      <td>0.013014</td>\n",
       "      <td>-0.002101</td>\n",
       "      <td>0.007127</td>\n",
       "    </tr>\n",
       "    <tr>\n",
       "      <th>flight_day</th>\n",
       "      <td>0.013551</td>\n",
       "      <td>0.029664</td>\n",
       "      <td>0.003520</td>\n",
       "      <td>0.024086</td>\n",
       "      <td>1.000000</td>\n",
       "      <td>-0.002503</td>\n",
       "      <td>0.005392</td>\n",
       "      <td>0.009281</td>\n",
       "      <td>0.018434</td>\n",
       "      <td>-0.006986</td>\n",
       "    </tr>\n",
       "    <tr>\n",
       "      <th>wants_extra_baggage</th>\n",
       "      <td>0.093164</td>\n",
       "      <td>0.020892</td>\n",
       "      <td>0.232762</td>\n",
       "      <td>-0.011434</td>\n",
       "      <td>-0.002503</td>\n",
       "      <td>1.000000</td>\n",
       "      <td>0.207669</td>\n",
       "      <td>0.216470</td>\n",
       "      <td>0.057054</td>\n",
       "      <td>0.068139</td>\n",
       "    </tr>\n",
       "    <tr>\n",
       "      <th>wants_preferred_seat</th>\n",
       "      <td>0.043474</td>\n",
       "      <td>0.014663</td>\n",
       "      <td>0.011302</td>\n",
       "      <td>0.012171</td>\n",
       "      <td>0.005392</td>\n",
       "      <td>0.207669</td>\n",
       "      <td>1.000000</td>\n",
       "      <td>0.315088</td>\n",
       "      <td>0.101289</td>\n",
       "      <td>0.050116</td>\n",
       "    </tr>\n",
       "    <tr>\n",
       "      <th>wants_in_flight_meals</th>\n",
       "      <td>0.010940</td>\n",
       "      <td>0.014664</td>\n",
       "      <td>0.103878</td>\n",
       "      <td>0.013014</td>\n",
       "      <td>0.009281</td>\n",
       "      <td>0.216470</td>\n",
       "      <td>0.315088</td>\n",
       "      <td>1.000000</td>\n",
       "      <td>0.154312</td>\n",
       "      <td>0.026511</td>\n",
       "    </tr>\n",
       "    <tr>\n",
       "      <th>flight_duration</th>\n",
       "      <td>-0.034435</td>\n",
       "      <td>0.072161</td>\n",
       "      <td>0.176257</td>\n",
       "      <td>-0.002101</td>\n",
       "      <td>0.018434</td>\n",
       "      <td>0.057054</td>\n",
       "      <td>0.101289</td>\n",
       "      <td>0.154312</td>\n",
       "      <td>1.000000</td>\n",
       "      <td>-0.106266</td>\n",
       "    </tr>\n",
       "    <tr>\n",
       "      <th>booking_complete</th>\n",
       "      <td>0.022536</td>\n",
       "      <td>-0.028453</td>\n",
       "      <td>-0.094614</td>\n",
       "      <td>0.007127</td>\n",
       "      <td>-0.006986</td>\n",
       "      <td>0.068139</td>\n",
       "      <td>0.050116</td>\n",
       "      <td>0.026511</td>\n",
       "      <td>-0.106266</td>\n",
       "      <td>1.000000</td>\n",
       "    </tr>\n",
       "  </tbody>\n",
       "</table>\n",
       "</div>"
      ],
      "text/plain": [
       "                       num_passengers  purchase_lead  length_of_stay  \\\n",
       "num_passengers               1.000000       0.150551       -0.096334   \n",
       "purchase_lead                0.150551       1.000000        0.034589   \n",
       "length_of_stay              -0.096334       0.034589        1.000000   \n",
       "flight_hour                  0.012464       0.030490       -0.037611   \n",
       "flight_day                   0.013551       0.029664        0.003520   \n",
       "wants_extra_baggage          0.093164       0.020892        0.232762   \n",
       "wants_preferred_seat         0.043474       0.014663        0.011302   \n",
       "wants_in_flight_meals        0.010940       0.014664        0.103878   \n",
       "flight_duration             -0.034435       0.072161        0.176257   \n",
       "booking_complete             0.022536      -0.028453       -0.094614   \n",
       "\n",
       "                       flight_hour  flight_day  wants_extra_baggage  \\\n",
       "num_passengers            0.012464    0.013551             0.093164   \n",
       "purchase_lead             0.030490    0.029664             0.020892   \n",
       "length_of_stay           -0.037611    0.003520             0.232762   \n",
       "flight_hour               1.000000    0.024086            -0.011434   \n",
       "flight_day                0.024086    1.000000            -0.002503   \n",
       "wants_extra_baggage      -0.011434   -0.002503             1.000000   \n",
       "wants_preferred_seat      0.012171    0.005392             0.207669   \n",
       "wants_in_flight_meals     0.013014    0.009281             0.216470   \n",
       "flight_duration          -0.002101    0.018434             0.057054   \n",
       "booking_complete          0.007127   -0.006986             0.068139   \n",
       "\n",
       "                       wants_preferred_seat  wants_in_flight_meals  \\\n",
       "num_passengers                     0.043474               0.010940   \n",
       "purchase_lead                      0.014663               0.014664   \n",
       "length_of_stay                     0.011302               0.103878   \n",
       "flight_hour                        0.012171               0.013014   \n",
       "flight_day                         0.005392               0.009281   \n",
       "wants_extra_baggage                0.207669               0.216470   \n",
       "wants_preferred_seat               1.000000               0.315088   \n",
       "wants_in_flight_meals              0.315088               1.000000   \n",
       "flight_duration                    0.101289               0.154312   \n",
       "booking_complete                   0.050116               0.026511   \n",
       "\n",
       "                       flight_duration  booking_complete  \n",
       "num_passengers               -0.034435          0.022536  \n",
       "purchase_lead                 0.072161         -0.028453  \n",
       "length_of_stay                0.176257         -0.094614  \n",
       "flight_hour                  -0.002101          0.007127  \n",
       "flight_day                    0.018434         -0.006986  \n",
       "wants_extra_baggage           0.057054          0.068139  \n",
       "wants_preferred_seat          0.101289          0.050116  \n",
       "wants_in_flight_meals         0.154312          0.026511  \n",
       "flight_duration               1.000000         -0.106266  \n",
       "booking_complete             -0.106266          1.000000  "
      ]
     },
     "execution_count": 16,
     "metadata": {},
     "output_type": "execute_result"
    }
   ],
   "source": [
    "corr = df.select_dtypes(exclude=object).corr()\n",
    "\n",
    "corr"
   ]
  },
  {
   "cell_type": "code",
   "execution_count": 17,
   "metadata": {},
   "outputs": [
    {
     "data": {
      "text/plain": [
       "<Axes: >"
      ]
     },
     "execution_count": 17,
     "metadata": {},
     "output_type": "execute_result"
    },
    {
     "data": {
      "image/png": "[encoded data removed]",
      "text/plain": [
       "<Figure size 1000x600 with 2 Axes>"
      ]
     },
     "metadata": {},
     "output_type": "display_data"
    }
   ],
   "source": [
    "plt.figure(figsize=(10,6))\n",
    "sns.heatmap(corr, annot=True, cmap=\"YlGnBu\", fmt=\".1f\")"
   ]
  },
  {
   "cell_type": "markdown",
   "metadata": {},
   "source": [
    "### Medium of Sales"
   ]
  },
  {
   "cell_type": "code",
   "execution_count": 18,
   "metadata": {},
   "outputs": [],
   "source": [
    "per_internet = df.sales_channel.value_counts().values[0] / df.sales_channel.count() *100\n",
    "per_mobile = df.sales_channel.value_counts().values[1] / df.sales_channel.count() *100"
   ]
  },
  {
   "cell_type": "code",
   "execution_count": 19,
   "metadata": {},
   "outputs": [
    {
     "name": "stdout",
     "output_type": "stream",
     "text": [
      "Number of bookings done through internet: 88.764 %\n",
      "Number of bookings done through mobile: 11.236 %\n"
     ]
    }
   ],
   "source": [
    "print(f\"Number of bookings done through internet: {per_internet} %\")\n",
    "print(f\"Number of bookings done through mobile: {per_mobile} %\")"
   ]
  },
  {
   "cell_type": "markdown",
   "metadata": {},
   "source": [
    "### Trip Type"
   ]
  },
  {
   "cell_type": "code",
   "execution_count": 20,
   "metadata": {},
   "outputs": [
    {
     "data": {
      "text/plain": [
       "trip_type\n",
       "RoundTrip     49497\n",
       "OneWay          387\n",
       "CircleTrip      116\n",
       "Name: count, dtype: int64"
      ]
     },
     "execution_count": 20,
     "metadata": {},
     "output_type": "execute_result"
    }
   ],
   "source": [
    "df.trip_type.value_counts()"
   ]
  },
  {
   "cell_type": "code",
   "execution_count": 21,
   "metadata": {},
   "outputs": [],
   "source": [
    "per_roundtrip = df.trip_type.value_counts().values[0]  / df.trip_type.count() *100\n",
    "per_oneway = df.trip_type.value_counts().values[1]  / df.trip_type.count() *100\n",
    "per_circletrip = df.trip_type.value_counts().values[2]  / df.trip_type.count() *100"
   ]
  },
  {
   "cell_type": "code",
   "execution_count": 22,
   "metadata": {},
   "outputs": [
    {
     "name": "stdout",
     "output_type": "stream",
     "text": [
      "Number of trips that were round trip: 98.994 %\n",
      "Number of trips that were one way: 0.774 %\n",
      "Number of trips that were circle trip: 0.232 %\n"
     ]
    }
   ],
   "source": [
    "print(f\"Number of trips that were round trip: {per_roundtrip} %\")\n",
    "print(f\"Number of trips that were one way: {per_oneway} %\")\n",
    "print(f\"Number of trips that were circle trip: {per_circletrip} %\")"
   ]
  },
  {
   "cell_type": "markdown",
   "metadata": {},
   "source": [
    "### Purchase lead"
   ]
  },
  {
   "cell_type": "code",
   "execution_count": 23,
   "metadata": {},
   "outputs": [
    {
     "data": {
      "text/plain": [
       "<Axes: xlabel='purchase_lead', ylabel='Count'>"
      ]
     },
     "execution_count": 23,
     "metadata": {},
     "output_type": "execute_result"
    },
    {
     "data": {
      "image/png": "[encoded data removed]",
      "text/plain": [
       "<Figure size 1500x500 with 1 Axes>"
      ]
     },
     "metadata": {},
     "output_type": "display_data"
    }
   ],
   "source": [
    "plt.figure(figsize=(15,5))\n",
    "sns.histplot(data=df, x=\"purchase_lead\", binwidth=20,kde=True)"
   ]
  },
  {
   "cell_type": "markdown",
   "metadata": {},
   "source": [
    "### Lenght of stay"
   ]
  },
  {
   "cell_type": "code",
   "execution_count": 24,
   "metadata": {},
   "outputs": [
    {
     "data": {
      "text/plain": [
       "<Axes: xlabel='length_of_stay', ylabel='Count'>"
      ]
     },
     "execution_count": 24,
     "metadata": {},
     "output_type": "execute_result"
    },
    {
     "data": {
      "image/png": "[encoded data removed]",
      "text/plain": [
       "<Figure size 2000x500 with 1 Axes>"
      ]
     },
     "metadata": {},
     "output_type": "display_data"
    }
   ],
   "source": [
    "plt.figure(figsize=(20, 5))\n",
    "sns.histplot(data = df, x = \"length_of_stay\", binwidth = 20, kde=True)"
   ]
  },
  {
   "cell_type": "markdown",
   "metadata": {},
   "source": [
    "### Flight Day"
   ]
  },
  {
   "cell_type": "code",
   "execution_count": 25,
   "metadata": {},
   "outputs": [
    {
     "data": {
      "text/plain": [
       "flight_day\n",
       "1    8102\n",
       "3    7674\n",
       "2    7673\n",
       "4    7424\n",
       "5    6761\n",
       "7    6554\n",
       "6    5812\n",
       "Name: count, dtype: int64"
      ]
     },
     "execution_count": 25,
     "metadata": {},
     "output_type": "execute_result"
    }
   ],
   "source": [
    "df.flight_day.value_counts()"
   ]
  },
  {
   "cell_type": "code",
   "execution_count": 26,
   "metadata": {},
   "outputs": [
    {
     "data": {
      "image/png": "[encoded data removed]",
      "text/plain": [
       "<Figure size 1500x600 with 1 Axes>"
      ]
     },
     "metadata": {},
     "output_type": "display_data"
    }
   ],
   "source": [
    "# No. of flights on each day of the week\n",
    "\n",
    "plt.figure(figsize=(15,6))\n",
    "ax = sns.countplot(x = \"flight_day\", data=df, order=df[\"flight_day\"].value_counts().index)\n",
    "for p in ax.patches:\n",
    "    ax.annotate(f'{p.get_height()}', (p.get_x() + p.get_width() / 2., p.get_height()), ha='center', va='bottom')\n",
    "plt.show()"
   ]
  },
  {
   "cell_type": "markdown",
   "metadata": {},
   "source": [
    "`Observation:` The most flight day happens on Mondays while Saturdays have the least flight day"
   ]
  },
  {
   "cell_type": "markdown",
   "metadata": {},
   "source": [
    "### Flight Hour"
   ]
  },
  {
   "cell_type": "code",
   "execution_count": 27,
   "metadata": {},
   "outputs": [
    {
     "data": {
      "text/plain": [
       "flight_hour\n",
       "8.0     3165\n",
       "12.0    3163\n",
       "9.0     3132\n",
       "7.0     3126\n",
       "11.0    3110\n",
       "13.0    3101\n",
       "10.0    3085\n",
       "6.0     3050\n",
       "5.0     2851\n",
       "4.0     2843\n",
       "14.0    2833\n",
       "3.0     2655\n",
       "2.0     2642\n",
       "15.0    2234\n",
       "1.0     2089\n",
       "16.0    1557\n",
       "0.0     1539\n",
       "23.0     986\n",
       "17.0     861\n",
       "22.0     579\n",
       "18.0     439\n",
       "21.0     389\n",
       "19.0     295\n",
       "20.0     276\n",
       "Name: count, dtype: int64"
      ]
     },
     "execution_count": 27,
     "metadata": {},
     "output_type": "execute_result"
    }
   ],
   "source": [
    "df.flight_hour.value_counts()"
   ]
  },
  {
   "cell_type": "markdown",
   "metadata": {},
   "source": [
    "The most frequent \"flight_hour\" is 8.0 hours while least frequent is 20.0 hours"
   ]
  },
  {
   "cell_type": "code",
   "execution_count": 28,
   "metadata": {},
   "outputs": [
    {
     "data": {
      "text/plain": [
       "flight_hour  booking_origin      \n",
       "20.0         Australia               108\n",
       "             New Zealand              25\n",
       "             Japan                    18\n",
       "             Malaysia                 15\n",
       "             Thailand                 13\n",
       "             South Korea              11\n",
       "             China                    11\n",
       "             India                    11\n",
       "             Indonesia                 8\n",
       "             United Kingdom            8\n",
       "             Taiwan                    7\n",
       "             United States             7\n",
       "             United Arab Emirates      4\n",
       "             Singapore                 4\n",
       "             Germany                   3\n",
       "             Philippines               3\n",
       "             Iran                      2\n",
       "             Macau                     2\n",
       "             Argentina                 2\n",
       "             Canada                    2\n",
       "Name: count, dtype: int64"
      ]
     },
     "execution_count": 28,
     "metadata": {},
     "output_type": "execute_result"
    }
   ],
   "source": [
    "# Booking origin with the most hours of flight\n",
    "\n",
    "origin_with_most_flight_hours = df[df[\"flight_hour\"] == 20.0].groupby(\"flight_hour\")[\"booking_origin\"].value_counts()\n",
    "\n",
    "origin_with_most_flight_hours[:20]"
   ]
  },
  {
   "cell_type": "code",
   "execution_count": 29,
   "metadata": {},
   "outputs": [
    {
     "data": {
      "text/plain": [
       "flight_hour  booking_origin\n",
       "8.0          Australia         1124\n",
       "             Malaysia           538\n",
       "             South Korea        264\n",
       "             China              201\n",
       "             Japan              198\n",
       "             Indonesia          177\n",
       "             Thailand           131\n",
       "             Taiwan             121\n",
       "             New Zealand         98\n",
       "             India               88\n",
       "             Singapore           58\n",
       "             Vietnam             28\n",
       "             Macau               19\n",
       "             Philippines         16\n",
       "             Hong Kong           13\n",
       "             United States       13\n",
       "             Brunei              12\n",
       "             United Kingdom       9\n",
       "             Cambodia             7\n",
       "             Russia               5\n",
       "Name: count, dtype: int64"
      ]
     },
     "execution_count": 29,
     "metadata": {},
     "output_type": "execute_result"
    }
   ],
   "source": [
    "# Booking origin with the least hours of flight\n",
    "\n",
    "origin_with_least_flight_hours = df[df[\"flight_hour\"] == 8.0].groupby(\"flight_hour\")[\"booking_origin\"].value_counts()\n",
    "\n",
    "origin_with_least_flight_hours[:20]"
   ]
  },
  {
   "cell_type": "markdown",
   "metadata": {},
   "source": [
    "### Booking Origin"
   ]
  },
  {
   "cell_type": "code",
   "execution_count": 30,
   "metadata": {},
   "outputs": [
    {
     "data": {
      "text/plain": [
       "booking_origin\n",
       "Australia               17872\n",
       "Malaysia                 7174\n",
       "South Korea              4559\n",
       "Japan                    3885\n",
       "China                    3387\n",
       "                        ...  \n",
       "Panama                      1\n",
       "Tonga                       1\n",
       "Tanzania                    1\n",
       "Bulgaria                    1\n",
       "Svalbard & Jan Mayen        1\n",
       "Name: count, Length: 104, dtype: int64"
      ]
     },
     "execution_count": 30,
     "metadata": {},
     "output_type": "execute_result"
    }
   ],
   "source": [
    "df[\"booking_origin\"].value_counts()"
   ]
  },
  {
   "cell_type": "code",
   "execution_count": 31,
   "metadata": {},
   "outputs": [
    {
     "data": {
      "text/plain": [
       "Text(0, 0.5, 'Number of bookings')"
      ]
     },
     "execution_count": 31,
     "metadata": {},
     "output_type": "execute_result"
    },
    {
     "data": {
      "image/png": "[encoded data removed]",
      "text/plain": [
       "<Figure size 1500x500 with 1 Axes>"
      ]
     },
     "metadata": {},
     "output_type": "display_data"
    }
   ],
   "source": [
    "plt.figure(figsize=(15,5))\n",
    "ax = df.booking_origin.value_counts()[:20].plot(kind=\"bar\")\n",
    "ax.set_xlabel(\"Countries\")\n",
    "ax.set_ylabel(\"Number of bookings\")"
   ]
  },
  {
   "cell_type": "markdown",
   "metadata": {},
   "source": [
    "`Observation`: The chart above illustrates the countries from which travelers submitted the highest number of booking applications."
   ]
  },
  {
   "cell_type": "code",
   "execution_count": 32,
   "metadata": {},
   "outputs": [
    {
     "data": {
      "text/plain": [
       "Text(0, 0.5, 'Number of complete bookings')"
      ]
     },
     "execution_count": 32,
     "metadata": {},
     "output_type": "execute_result"
    },
    {
     "data": {
      "image/png": "[encoded data removed]",
      "text/plain": [
       "<Figure size 1500x500 with 1 Axes>"
      ]
     },
     "metadata": {},
     "output_type": "display_data"
    }
   ],
   "source": [
    "plt.figure(figsize=(15,5))\n",
    "ax = df[df.booking_complete ==1].booking_origin.value_counts()[:20].plot(kind=\"bar\")\n",
    "ax.set_xlabel(\"Countries\")\n",
    "ax.set_ylabel(\"Number of complete bookings\")"
   ]
  },
  {
   "cell_type": "markdown",
   "metadata": {},
   "source": [
    "`Observation`: The chart above illustrates the countries that had their booking completed."
   ]
  },
  {
   "cell_type": "markdown",
   "metadata": {},
   "source": [
    "### Booking Complete"
   ]
  },
  {
   "cell_type": "code",
   "execution_count": 33,
   "metadata": {},
   "outputs": [
    {
     "data": {
      "text/plain": [
       "booking_complete\n",
       "0    42522\n",
       "1     7478\n",
       "Name: count, dtype: int64"
      ]
     },
     "execution_count": 33,
     "metadata": {},
     "output_type": "execute_result"
    }
   ],
   "source": [
    "df.booking_complete.value_counts()"
   ]
  },
  {
   "cell_type": "code",
   "execution_count": 34,
   "metadata": {},
   "outputs": [],
   "source": [
    "# Successful bookings are the ones with 1 while unsuccessful ones are the ones with 0\n",
    "\n",
    "successful_booking = df[\"booking_complete\"] == 1\n",
    "unsuccessful_booking = df[\"booking_complete\"] == 0"
   ]
  },
  {
   "cell_type": "code",
   "execution_count": 35,
   "metadata": {},
   "outputs": [
    {
     "name": "stdout",
     "output_type": "stream",
     "text": [
      "Out of 50000 booking entries only 14.96 % bookings were successful.\n"
     ]
    }
   ],
   "source": [
    "# Percentage of successful_booking\n",
    "\n",
    "per_successful_booking = (successful_booking.sum()) / (df[\"booking_complete\"].count()) * 100\n",
    "\n",
    "print(f\"Out of 50000 booking entries only {round(per_successful_booking,2)} % bookings were successful.\")"
   ]
  },
  {
   "cell_type": "markdown",
   "metadata": {},
   "source": [
    "## Models"
   ]
  },
  {
   "cell_type": "markdown",
   "metadata": {},
   "source": [
    "### OneHotCoder"
   ]
  },
  {
   "cell_type": "code",
   "execution_count": 36,
   "metadata": {},
   "outputs": [
    {
     "name": "stdout",
     "output_type": "stream",
     "text": [
      "Note: you may need to restart the kernel to use updated packages.\n"
     ]
    }
   ],
   "source": [
    "pip install scikit-learn --quiet"
   ]
  },
  {
   "cell_type": "code",
   "execution_count": 37,
   "metadata": {},
   "outputs": [],
   "source": [
    "from sklearn.preprocessing import OneHotEncoder\n",
    "\n",
    "\n",
    "#create instance of one hot encoder\n",
    "encoder = OneHotEncoder(handle_unknown='ignore')\n",
    "\n",
    "#one hot encode Sales Channel\n",
    "encoder_df = pd.DataFrame(encoder.fit_transform(df[[\"sales_channel\"]]).toarray())\n",
    "encoder_df = encoder_df.rename(columns={0:'Internet', 1:'Mobile'})\n",
    "df_final = df.join(encoder_df)\n",
    "\n",
    "#one hot encode trip type\n",
    "encoder_df = pd.DataFrame(encoder.fit_transform(df[[\"trip_type\"]]).toarray())\n",
    "encoder_df = encoder_df.rename(columns={0:'RoundTRip', 1:'OneWayTrip',2:'CircleTrip'})\n",
    "df_final = df_final.join(encoder_df)\n"
   ]
  },
  {
   "cell_type": "code",
   "execution_count": 38,
   "metadata": {},
   "outputs": [
    {
     "data": {
      "text/html": [
       "<div>\n",
       "<style scoped>\n",
       "    .dataframe tbody tr th:only-of-type {\n",
       "        vertical-align: middle;\n",
       "    }\n",
       "\n",
       "    .dataframe tbody tr th {\n",
       "        vertical-align: top;\n",
       "    }\n",
       "\n",
       "    .dataframe thead th {\n",
       "        text-align: right;\n",
       "    }\n",
       "</style>\n",
       "<table border=\"1\" class=\"dataframe\">\n",
       "  <thead>\n",
       "    <tr style=\"text-align: right;\">\n",
       "      <th></th>\n",
       "      <th>num_passengers</th>\n",
       "      <th>sales_channel</th>\n",
       "      <th>trip_type</th>\n",
       "      <th>purchase_lead</th>\n",
       "      <th>length_of_stay</th>\n",
       "      <th>flight_hour</th>\n",
       "      <th>flight_day</th>\n",
       "      <th>route</th>\n",
       "      <th>booking_origin</th>\n",
       "      <th>wants_extra_baggage</th>\n",
       "      <th>wants_preferred_seat</th>\n",
       "      <th>wants_in_flight_meals</th>\n",
       "      <th>flight_duration</th>\n",
       "      <th>booking_complete</th>\n",
       "      <th>Internet</th>\n",
       "      <th>Mobile</th>\n",
       "      <th>RoundTRip</th>\n",
       "      <th>OneWayTrip</th>\n",
       "      <th>CircleTrip</th>\n",
       "    </tr>\n",
       "  </thead>\n",
       "  <tbody>\n",
       "    <tr>\n",
       "      <th>0</th>\n",
       "      <td>2.0</td>\n",
       "      <td>Internet</td>\n",
       "      <td>RoundTrip</td>\n",
       "      <td>51.0</td>\n",
       "      <td>19.0</td>\n",
       "      <td>7.0</td>\n",
       "      <td>6</td>\n",
       "      <td>AKLDEL</td>\n",
       "      <td>New Zealand</td>\n",
       "      <td>1.0</td>\n",
       "      <td>0.0</td>\n",
       "      <td>0.0</td>\n",
       "      <td>5.52</td>\n",
       "      <td>0</td>\n",
       "      <td>1.0</td>\n",
       "      <td>0.0</td>\n",
       "      <td>0.0</td>\n",
       "      <td>0.0</td>\n",
       "      <td>1.0</td>\n",
       "    </tr>\n",
       "    <tr>\n",
       "      <th>1</th>\n",
       "      <td>1.0</td>\n",
       "      <td>Internet</td>\n",
       "      <td>RoundTrip</td>\n",
       "      <td>112.0</td>\n",
       "      <td>20.0</td>\n",
       "      <td>3.0</td>\n",
       "      <td>6</td>\n",
       "      <td>AKLDEL</td>\n",
       "      <td>New Zealand</td>\n",
       "      <td>0.0</td>\n",
       "      <td>0.0</td>\n",
       "      <td>0.0</td>\n",
       "      <td>5.52</td>\n",
       "      <td>0</td>\n",
       "      <td>1.0</td>\n",
       "      <td>0.0</td>\n",
       "      <td>0.0</td>\n",
       "      <td>0.0</td>\n",
       "      <td>1.0</td>\n",
       "    </tr>\n",
       "    <tr>\n",
       "      <th>2</th>\n",
       "      <td>2.0</td>\n",
       "      <td>Internet</td>\n",
       "      <td>RoundTrip</td>\n",
       "      <td>243.0</td>\n",
       "      <td>22.0</td>\n",
       "      <td>17.0</td>\n",
       "      <td>3</td>\n",
       "      <td>AKLDEL</td>\n",
       "      <td>India</td>\n",
       "      <td>1.0</td>\n",
       "      <td>1.0</td>\n",
       "      <td>0.0</td>\n",
       "      <td>5.52</td>\n",
       "      <td>0</td>\n",
       "      <td>1.0</td>\n",
       "      <td>0.0</td>\n",
       "      <td>0.0</td>\n",
       "      <td>0.0</td>\n",
       "      <td>1.0</td>\n",
       "    </tr>\n",
       "    <tr>\n",
       "      <th>3</th>\n",
       "      <td>1.0</td>\n",
       "      <td>Internet</td>\n",
       "      <td>RoundTrip</td>\n",
       "      <td>96.0</td>\n",
       "      <td>31.0</td>\n",
       "      <td>4.0</td>\n",
       "      <td>6</td>\n",
       "      <td>AKLDEL</td>\n",
       "      <td>New Zealand</td>\n",
       "      <td>0.0</td>\n",
       "      <td>0.0</td>\n",
       "      <td>1.0</td>\n",
       "      <td>5.52</td>\n",
       "      <td>0</td>\n",
       "      <td>1.0</td>\n",
       "      <td>0.0</td>\n",
       "      <td>0.0</td>\n",
       "      <td>0.0</td>\n",
       "      <td>1.0</td>\n",
       "    </tr>\n",
       "    <tr>\n",
       "      <th>4</th>\n",
       "      <td>2.0</td>\n",
       "      <td>Internet</td>\n",
       "      <td>RoundTrip</td>\n",
       "      <td>68.0</td>\n",
       "      <td>22.0</td>\n",
       "      <td>15.0</td>\n",
       "      <td>3</td>\n",
       "      <td>AKLDEL</td>\n",
       "      <td>India</td>\n",
       "      <td>1.0</td>\n",
       "      <td>0.0</td>\n",
       "      <td>1.0</td>\n",
       "      <td>5.52</td>\n",
       "      <td>0</td>\n",
       "      <td>1.0</td>\n",
       "      <td>0.0</td>\n",
       "      <td>0.0</td>\n",
       "      <td>0.0</td>\n",
       "      <td>1.0</td>\n",
       "    </tr>\n",
       "  </tbody>\n",
       "</table>\n",
       "</div>"
      ],
      "text/plain": [
       "   num_passengers sales_channel  trip_type  purchase_lead  length_of_stay  \\\n",
       "0             2.0      Internet  RoundTrip           51.0            19.0   \n",
       "1             1.0      Internet  RoundTrip          112.0            20.0   \n",
       "2             2.0      Internet  RoundTrip          243.0            22.0   \n",
       "3             1.0      Internet  RoundTrip           96.0            31.0   \n",
       "4             2.0      Internet  RoundTrip           68.0            22.0   \n",
       "\n",
       "   flight_hour  flight_day   route booking_origin  wants_extra_baggage  \\\n",
       "0          7.0           6  AKLDEL    New Zealand                  1.0   \n",
       "1          3.0           6  AKLDEL    New Zealand                  0.0   \n",
       "2         17.0           3  AKLDEL          India                  1.0   \n",
       "3          4.0           6  AKLDEL    New Zealand                  0.0   \n",
       "4         15.0           3  AKLDEL          India                  1.0   \n",
       "\n",
       "   wants_preferred_seat  wants_in_flight_meals  flight_duration  \\\n",
       "0                   0.0                    0.0             5.52   \n",
       "1                   0.0                    0.0             5.52   \n",
       "2                   1.0                    0.0             5.52   \n",
       "3                   0.0                    1.0             5.52   \n",
       "4                   0.0                    1.0             5.52   \n",
       "\n",
       "   booking_complete  Internet  Mobile  RoundTRip  OneWayTrip  CircleTrip  \n",
       "0                 0       1.0     0.0        0.0         0.0         1.0  \n",
       "1                 0       1.0     0.0        0.0         0.0         1.0  \n",
       "2                 0       1.0     0.0        0.0         0.0         1.0  \n",
       "3                 0       1.0     0.0        0.0         0.0         1.0  \n",
       "4                 0       1.0     0.0        0.0         0.0         1.0  "
      ]
     },
     "execution_count": 38,
     "metadata": {},
     "output_type": "execute_result"
    }
   ],
   "source": [
    "df_final.head()"
   ]
  },
  {
   "cell_type": "code",
   "execution_count": 39,
   "metadata": {},
   "outputs": [
    {
     "data": {
      "text/html": [
       "<div>\n",
       "<style scoped>\n",
       "    .dataframe tbody tr th:only-of-type {\n",
       "        vertical-align: middle;\n",
       "    }\n",
       "\n",
       "    .dataframe tbody tr th {\n",
       "        vertical-align: top;\n",
       "    }\n",
       "\n",
       "    .dataframe thead th {\n",
       "        text-align: right;\n",
       "    }\n",
       "</style>\n",
       "<table border=\"1\" class=\"dataframe\">\n",
       "  <thead>\n",
       "    <tr style=\"text-align: right;\">\n",
       "      <th></th>\n",
       "      <th>num_passengers</th>\n",
       "      <th>purchase_lead</th>\n",
       "      <th>length_of_stay</th>\n",
       "      <th>flight_hour</th>\n",
       "      <th>flight_day</th>\n",
       "      <th>wants_extra_baggage</th>\n",
       "      <th>wants_preferred_seat</th>\n",
       "      <th>wants_in_flight_meals</th>\n",
       "      <th>flight_duration</th>\n",
       "      <th>booking_complete</th>\n",
       "      <th>Internet</th>\n",
       "      <th>Mobile</th>\n",
       "      <th>RoundTRip</th>\n",
       "      <th>OneWayTrip</th>\n",
       "      <th>CircleTrip</th>\n",
       "    </tr>\n",
       "  </thead>\n",
       "  <tbody>\n",
       "    <tr>\n",
       "      <th>0</th>\n",
       "      <td>2.0</td>\n",
       "      <td>51.0</td>\n",
       "      <td>19.0</td>\n",
       "      <td>7.0</td>\n",
       "      <td>6</td>\n",
       "      <td>1.0</td>\n",
       "      <td>0.0</td>\n",
       "      <td>0.0</td>\n",
       "      <td>5.52</td>\n",
       "      <td>0</td>\n",
       "      <td>1.0</td>\n",
       "      <td>0.0</td>\n",
       "      <td>0.0</td>\n",
       "      <td>0.0</td>\n",
       "      <td>1.0</td>\n",
       "    </tr>\n",
       "    <tr>\n",
       "      <th>1</th>\n",
       "      <td>1.0</td>\n",
       "      <td>112.0</td>\n",
       "      <td>20.0</td>\n",
       "      <td>3.0</td>\n",
       "      <td>6</td>\n",
       "      <td>0.0</td>\n",
       "      <td>0.0</td>\n",
       "      <td>0.0</td>\n",
       "      <td>5.52</td>\n",
       "      <td>0</td>\n",
       "      <td>1.0</td>\n",
       "      <td>0.0</td>\n",
       "      <td>0.0</td>\n",
       "      <td>0.0</td>\n",
       "      <td>1.0</td>\n",
       "    </tr>\n",
       "    <tr>\n",
       "      <th>2</th>\n",
       "      <td>2.0</td>\n",
       "      <td>243.0</td>\n",
       "      <td>22.0</td>\n",
       "      <td>17.0</td>\n",
       "      <td>3</td>\n",
       "      <td>1.0</td>\n",
       "      <td>1.0</td>\n",
       "      <td>0.0</td>\n",
       "      <td>5.52</td>\n",
       "      <td>0</td>\n",
       "      <td>1.0</td>\n",
       "      <td>0.0</td>\n",
       "      <td>0.0</td>\n",
       "      <td>0.0</td>\n",
       "      <td>1.0</td>\n",
       "    </tr>\n",
       "    <tr>\n",
       "      <th>3</th>\n",
       "      <td>1.0</td>\n",
       "      <td>96.0</td>\n",
       "      <td>31.0</td>\n",
       "      <td>4.0</td>\n",
       "      <td>6</td>\n",
       "      <td>0.0</td>\n",
       "      <td>0.0</td>\n",
       "      <td>1.0</td>\n",
       "      <td>5.52</td>\n",
       "      <td>0</td>\n",
       "      <td>1.0</td>\n",
       "      <td>0.0</td>\n",
       "      <td>0.0</td>\n",
       "      <td>0.0</td>\n",
       "      <td>1.0</td>\n",
       "    </tr>\n",
       "    <tr>\n",
       "      <th>4</th>\n",
       "      <td>2.0</td>\n",
       "      <td>68.0</td>\n",
       "      <td>22.0</td>\n",
       "      <td>15.0</td>\n",
       "      <td>3</td>\n",
       "      <td>1.0</td>\n",
       "      <td>0.0</td>\n",
       "      <td>1.0</td>\n",
       "      <td>5.52</td>\n",
       "      <td>0</td>\n",
       "      <td>1.0</td>\n",
       "      <td>0.0</td>\n",
       "      <td>0.0</td>\n",
       "      <td>0.0</td>\n",
       "      <td>1.0</td>\n",
       "    </tr>\n",
       "  </tbody>\n",
       "</table>\n",
       "</div>"
      ],
      "text/plain": [
       "   num_passengers  purchase_lead  length_of_stay  flight_hour  flight_day  \\\n",
       "0             2.0           51.0            19.0          7.0           6   \n",
       "1             1.0          112.0            20.0          3.0           6   \n",
       "2             2.0          243.0            22.0         17.0           3   \n",
       "3             1.0           96.0            31.0          4.0           6   \n",
       "4             2.0           68.0            22.0         15.0           3   \n",
       "\n",
       "   wants_extra_baggage  wants_preferred_seat  wants_in_flight_meals  \\\n",
       "0                  1.0                   0.0                    0.0   \n",
       "1                  0.0                   0.0                    0.0   \n",
       "2                  1.0                   1.0                    0.0   \n",
       "3                  0.0                   0.0                    1.0   \n",
       "4                  1.0                   0.0                    1.0   \n",
       "\n",
       "   flight_duration  booking_complete  Internet  Mobile  RoundTRip  OneWayTrip  \\\n",
       "0             5.52                 0       1.0     0.0        0.0         0.0   \n",
       "1             5.52                 0       1.0     0.0        0.0         0.0   \n",
       "2             5.52                 0       1.0     0.0        0.0         0.0   \n",
       "3             5.52                 0       1.0     0.0        0.0         0.0   \n",
       "4             5.52                 0       1.0     0.0        0.0         0.0   \n",
       "\n",
       "   CircleTrip  \n",
       "0         1.0  \n",
       "1         1.0  \n",
       "2         1.0  \n",
       "3         1.0  \n",
       "4         1.0  "
      ]
     },
     "execution_count": 39,
     "metadata": {},
     "output_type": "execute_result"
    }
   ],
   "source": [
    "df_numerical = df_final.select_dtypes(exclude=object)\n",
    "\n",
    "df_numerical.head()"
   ]
  },
  {
   "cell_type": "code",
   "execution_count": 45,
   "metadata": {},
   "outputs": [],
   "source": [
    "label = df_numerical[\"booking_complete\"]"
   ]
  },
  {
   "cell_type": "code",
   "execution_count": 48,
   "metadata": {},
   "outputs": [],
   "source": [
    "df_numerical = df_numerical.drop('booking_complete', axis=1)"
   ]
  },
  {
   "cell_type": "code",
   "execution_count": 51,
   "metadata": {},
   "outputs": [],
   "source": [
    "from sklearn.preprocessing import StandardScaler\n",
    "\n",
    "#create a standard scaler object\n",
    "scaler = StandardScaler()\n",
    "\n",
    "#fit and transform the data\n",
    "scaled_df = scaler.fit_transform(df_numerical)"
   ]
  },
  {
   "cell_type": "code",
   "execution_count": 52,
   "metadata": {},
   "outputs": [
    {
     "data": {
      "text/html": [
       "<div>\n",
       "<style scoped>\n",
       "    .dataframe tbody tr th:only-of-type {\n",
       "        vertical-align: middle;\n",
       "    }\n",
       "\n",
       "    .dataframe tbody tr th {\n",
       "        vertical-align: top;\n",
       "    }\n",
       "\n",
       "    .dataframe thead th {\n",
       "        text-align: right;\n",
       "    }\n",
       "</style>\n",
       "<table border=\"1\" class=\"dataframe\">\n",
       "  <thead>\n",
       "    <tr style=\"text-align: right;\">\n",
       "      <th></th>\n",
       "      <th>num_passengers</th>\n",
       "      <th>purchase_lead</th>\n",
       "      <th>length_of_stay</th>\n",
       "      <th>flight_hour</th>\n",
       "      <th>flight_day</th>\n",
       "      <th>wants_extra_baggage</th>\n",
       "      <th>wants_preferred_seat</th>\n",
       "      <th>wants_in_flight_meals</th>\n",
       "      <th>flight_duration</th>\n",
       "      <th>Internet</th>\n",
       "      <th>Mobile</th>\n",
       "      <th>RoundTRip</th>\n",
       "      <th>OneWayTrip</th>\n",
       "      <th>CircleTrip</th>\n",
       "    </tr>\n",
       "  </thead>\n",
       "  <tbody>\n",
       "    <tr>\n",
       "      <th>0</th>\n",
       "      <td>1.056055</td>\n",
       "      <td>-0.246182</td>\n",
       "      <td>0.231165</td>\n",
       "      <td>-0.381764</td>\n",
       "      <td>1.096754</td>\n",
       "      <td>0.703747</td>\n",
       "      <td>-0.649919</td>\n",
       "      <td>-0.863497</td>\n",
       "      <td>-1.174175</td>\n",
       "      <td>0.355785</td>\n",
       "      <td>-0.355785</td>\n",
       "      <td>-0.048222</td>\n",
       "      <td>-0.08832</td>\n",
       "      <td>0.100808</td>\n",
       "    </tr>\n",
       "    <tr>\n",
       "      <th>1</th>\n",
       "      <td>-0.630179</td>\n",
       "      <td>0.767907</td>\n",
       "      <td>0.305232</td>\n",
       "      <td>-1.120780</td>\n",
       "      <td>1.096754</td>\n",
       "      <td>-1.420965</td>\n",
       "      <td>-0.649919</td>\n",
       "      <td>-0.863497</td>\n",
       "      <td>-1.174175</td>\n",
       "      <td>0.355785</td>\n",
       "      <td>-0.355785</td>\n",
       "      <td>-0.048222</td>\n",
       "      <td>-0.08832</td>\n",
       "      <td>0.100808</td>\n",
       "    </tr>\n",
       "    <tr>\n",
       "      <th>2</th>\n",
       "      <td>1.056055</td>\n",
       "      <td>2.945705</td>\n",
       "      <td>0.453365</td>\n",
       "      <td>1.465775</td>\n",
       "      <td>-0.408687</td>\n",
       "      <td>0.703747</td>\n",
       "      <td>1.538654</td>\n",
       "      <td>-0.863497</td>\n",
       "      <td>-1.174175</td>\n",
       "      <td>0.355785</td>\n",
       "      <td>-0.355785</td>\n",
       "      <td>-0.048222</td>\n",
       "      <td>-0.08832</td>\n",
       "      <td>0.100808</td>\n",
       "    </tr>\n",
       "    <tr>\n",
       "      <th>3</th>\n",
       "      <td>-0.630179</td>\n",
       "      <td>0.501916</td>\n",
       "      <td>1.119966</td>\n",
       "      <td>-0.936026</td>\n",
       "      <td>1.096754</td>\n",
       "      <td>-1.420965</td>\n",
       "      <td>-0.649919</td>\n",
       "      <td>1.158082</td>\n",
       "      <td>-1.174175</td>\n",
       "      <td>0.355785</td>\n",
       "      <td>-0.355785</td>\n",
       "      <td>-0.048222</td>\n",
       "      <td>-0.08832</td>\n",
       "      <td>0.100808</td>\n",
       "    </tr>\n",
       "    <tr>\n",
       "      <th>4</th>\n",
       "      <td>1.056055</td>\n",
       "      <td>0.036433</td>\n",
       "      <td>0.453365</td>\n",
       "      <td>1.096267</td>\n",
       "      <td>-0.408687</td>\n",
       "      <td>0.703747</td>\n",
       "      <td>-0.649919</td>\n",
       "      <td>1.158082</td>\n",
       "      <td>-1.174175</td>\n",
       "      <td>0.355785</td>\n",
       "      <td>-0.355785</td>\n",
       "      <td>-0.048222</td>\n",
       "      <td>-0.08832</td>\n",
       "      <td>0.100808</td>\n",
       "    </tr>\n",
       "    <tr>\n",
       "      <th>...</th>\n",
       "      <td>...</td>\n",
       "      <td>...</td>\n",
       "      <td>...</td>\n",
       "      <td>...</td>\n",
       "      <td>...</td>\n",
       "      <td>...</td>\n",
       "      <td>...</td>\n",
       "      <td>...</td>\n",
       "      <td>...</td>\n",
       "      <td>...</td>\n",
       "      <td>...</td>\n",
       "      <td>...</td>\n",
       "      <td>...</td>\n",
       "      <td>...</td>\n",
       "    </tr>\n",
       "    <tr>\n",
       "      <th>49995</th>\n",
       "      <td>1.056055</td>\n",
       "      <td>-0.645168</td>\n",
       "      <td>-0.731702</td>\n",
       "      <td>-0.012257</td>\n",
       "      <td>1.096754</td>\n",
       "      <td>0.703747</td>\n",
       "      <td>-0.649919</td>\n",
       "      <td>1.158082</td>\n",
       "      <td>-1.107368</td>\n",
       "      <td>0.355785</td>\n",
       "      <td>-0.355785</td>\n",
       "      <td>-0.048222</td>\n",
       "      <td>-0.08832</td>\n",
       "      <td>0.100808</td>\n",
       "    </tr>\n",
       "    <tr>\n",
       "      <th>49996</th>\n",
       "      <td>-0.630179</td>\n",
       "      <td>0.751282</td>\n",
       "      <td>-0.731702</td>\n",
       "      <td>-0.936026</td>\n",
       "      <td>1.598567</td>\n",
       "      <td>-1.420965</td>\n",
       "      <td>-0.649919</td>\n",
       "      <td>-0.863497</td>\n",
       "      <td>-1.107368</td>\n",
       "      <td>0.355785</td>\n",
       "      <td>-0.355785</td>\n",
       "      <td>-0.048222</td>\n",
       "      <td>-0.08832</td>\n",
       "      <td>0.100808</td>\n",
       "    </tr>\n",
       "    <tr>\n",
       "      <th>49997</th>\n",
       "      <td>-0.630179</td>\n",
       "      <td>-0.695041</td>\n",
       "      <td>-0.731702</td>\n",
       "      <td>2.389544</td>\n",
       "      <td>1.096754</td>\n",
       "      <td>-1.420965</td>\n",
       "      <td>-0.649919</td>\n",
       "      <td>1.158082</td>\n",
       "      <td>-1.107368</td>\n",
       "      <td>0.355785</td>\n",
       "      <td>-0.355785</td>\n",
       "      <td>-0.048222</td>\n",
       "      <td>-0.08832</td>\n",
       "      <td>0.100808</td>\n",
       "    </tr>\n",
       "    <tr>\n",
       "      <th>49998</th>\n",
       "      <td>-0.630179</td>\n",
       "      <td>-0.844661</td>\n",
       "      <td>-0.731702</td>\n",
       "      <td>0.357251</td>\n",
       "      <td>-1.412314</td>\n",
       "      <td>0.703747</td>\n",
       "      <td>-0.649919</td>\n",
       "      <td>1.158082</td>\n",
       "      <td>-1.107368</td>\n",
       "      <td>0.355785</td>\n",
       "      <td>-0.355785</td>\n",
       "      <td>-0.048222</td>\n",
       "      <td>-0.08832</td>\n",
       "      <td>0.100808</td>\n",
       "    </tr>\n",
       "    <tr>\n",
       "      <th>49999</th>\n",
       "      <td>-0.630179</td>\n",
       "      <td>-0.778163</td>\n",
       "      <td>-0.731702</td>\n",
       "      <td>0.172497</td>\n",
       "      <td>0.093127</td>\n",
       "      <td>-1.420965</td>\n",
       "      <td>1.538654</td>\n",
       "      <td>-0.863497</td>\n",
       "      <td>-1.107368</td>\n",
       "      <td>0.355785</td>\n",
       "      <td>-0.355785</td>\n",
       "      <td>-0.048222</td>\n",
       "      <td>-0.08832</td>\n",
       "      <td>0.100808</td>\n",
       "    </tr>\n",
       "  </tbody>\n",
       "</table>\n",
       "<p>50000 rows × 14 columns</p>\n",
       "</div>"
      ],
      "text/plain": [
       "       num_passengers  purchase_lead  length_of_stay  flight_hour  flight_day  \\\n",
       "0            1.056055      -0.246182        0.231165    -0.381764    1.096754   \n",
       "1           -0.630179       0.767907        0.305232    -1.120780    1.096754   \n",
       "2            1.056055       2.945705        0.453365     1.465775   -0.408687   \n",
       "3           -0.630179       0.501916        1.119966    -0.936026    1.096754   \n",
       "4            1.056055       0.036433        0.453365     1.096267   -0.408687   \n",
       "...               ...            ...             ...          ...         ...   \n",
       "49995        1.056055      -0.645168       -0.731702    -0.012257    1.096754   \n",
       "49996       -0.630179       0.751282       -0.731702    -0.936026    1.598567   \n",
       "49997       -0.630179      -0.695041       -0.731702     2.389544    1.096754   \n",
       "49998       -0.630179      -0.844661       -0.731702     0.357251   -1.412314   \n",
       "49999       -0.630179      -0.778163       -0.731702     0.172497    0.093127   \n",
       "\n",
       "       wants_extra_baggage  wants_preferred_seat  wants_in_flight_meals  \\\n",
       "0                 0.703747             -0.649919              -0.863497   \n",
       "1                -1.420965             -0.649919              -0.863497   \n",
       "2                 0.703747              1.538654              -0.863497   \n",
       "3                -1.420965             -0.649919               1.158082   \n",
       "4                 0.703747             -0.649919               1.158082   \n",
       "...                    ...                   ...                    ...   \n",
       "49995             0.703747             -0.649919               1.158082   \n",
       "49996            -1.420965             -0.649919              -0.863497   \n",
       "49997            -1.420965             -0.649919               1.158082   \n",
       "49998             0.703747             -0.649919               1.158082   \n",
       "49999            -1.420965              1.538654              -0.863497   \n",
       "\n",
       "       flight_duration  Internet    Mobile  RoundTRip  OneWayTrip  CircleTrip  \n",
       "0            -1.174175  0.355785 -0.355785  -0.048222    -0.08832    0.100808  \n",
       "1            -1.174175  0.355785 -0.355785  -0.048222    -0.08832    0.100808  \n",
       "2            -1.174175  0.355785 -0.355785  -0.048222    -0.08832    0.100808  \n",
       "3            -1.174175  0.355785 -0.355785  -0.048222    -0.08832    0.100808  \n",
       "4            -1.174175  0.355785 -0.355785  -0.048222    -0.08832    0.100808  \n",
       "...                ...       ...       ...        ...         ...         ...  \n",
       "49995        -1.107368  0.355785 -0.355785  -0.048222    -0.08832    0.100808  \n",
       "49996        -1.107368  0.355785 -0.355785  -0.048222    -0.08832    0.100808  \n",
       "49997        -1.107368  0.355785 -0.355785  -0.048222    -0.08832    0.100808  \n",
       "49998        -1.107368  0.355785 -0.355785  -0.048222    -0.08832    0.100808  \n",
       "49999        -1.107368  0.355785 -0.355785  -0.048222    -0.08832    0.100808  \n",
       "\n",
       "[50000 rows x 14 columns]"
      ]
     },
     "execution_count": 52,
     "metadata": {},
     "output_type": "execute_result"
    }
   ],
   "source": [
    "scaled_df = pd.DataFrame(scaled_df, columns = df_numerical.columns)\n",
    "\n",
    "scaled_df"
   ]
  },
  {
   "cell_type": "markdown",
   "metadata": {},
   "source": [
    "### Splitting Data into Train and Test\n",
    "\n",
    "Now let's split the dataset into train and test sets. The test sets will be 20% of the total dataset"
   ]
  },
  {
   "cell_type": "code",
   "execution_count": 53,
   "metadata": {},
   "outputs": [
    {
     "data": {
      "text/html": [
       "<div>\n",
       "<style scoped>\n",
       "    .dataframe tbody tr th:only-of-type {\n",
       "        vertical-align: middle;\n",
       "    }\n",
       "\n",
       "    .dataframe tbody tr th {\n",
       "        vertical-align: top;\n",
       "    }\n",
       "\n",
       "    .dataframe thead th {\n",
       "        text-align: right;\n",
       "    }\n",
       "</style>\n",
       "<table border=\"1\" class=\"dataframe\">\n",
       "  <thead>\n",
       "    <tr style=\"text-align: right;\">\n",
       "      <th></th>\n",
       "      <th>num_passengers</th>\n",
       "      <th>purchase_lead</th>\n",
       "      <th>length_of_stay</th>\n",
       "      <th>flight_hour</th>\n",
       "      <th>flight_day</th>\n",
       "      <th>wants_extra_baggage</th>\n",
       "      <th>wants_preferred_seat</th>\n",
       "      <th>wants_in_flight_meals</th>\n",
       "      <th>flight_duration</th>\n",
       "      <th>Internet</th>\n",
       "      <th>Mobile</th>\n",
       "      <th>RoundTRip</th>\n",
       "      <th>OneWayTrip</th>\n",
       "      <th>CircleTrip</th>\n",
       "      <th>label</th>\n",
       "    </tr>\n",
       "  </thead>\n",
       "  <tbody>\n",
       "    <tr>\n",
       "      <th>0</th>\n",
       "      <td>1.056055</td>\n",
       "      <td>-0.246182</td>\n",
       "      <td>0.231165</td>\n",
       "      <td>-0.381764</td>\n",
       "      <td>1.096754</td>\n",
       "      <td>0.703747</td>\n",
       "      <td>-0.649919</td>\n",
       "      <td>-0.863497</td>\n",
       "      <td>-1.174175</td>\n",
       "      <td>0.355785</td>\n",
       "      <td>-0.355785</td>\n",
       "      <td>-0.048222</td>\n",
       "      <td>-0.08832</td>\n",
       "      <td>0.100808</td>\n",
       "      <td>0</td>\n",
       "    </tr>\n",
       "    <tr>\n",
       "      <th>1</th>\n",
       "      <td>-0.630179</td>\n",
       "      <td>0.767907</td>\n",
       "      <td>0.305232</td>\n",
       "      <td>-1.120780</td>\n",
       "      <td>1.096754</td>\n",
       "      <td>-1.420965</td>\n",
       "      <td>-0.649919</td>\n",
       "      <td>-0.863497</td>\n",
       "      <td>-1.174175</td>\n",
       "      <td>0.355785</td>\n",
       "      <td>-0.355785</td>\n",
       "      <td>-0.048222</td>\n",
       "      <td>-0.08832</td>\n",
       "      <td>0.100808</td>\n",
       "      <td>0</td>\n",
       "    </tr>\n",
       "    <tr>\n",
       "      <th>2</th>\n",
       "      <td>1.056055</td>\n",
       "      <td>2.945705</td>\n",
       "      <td>0.453365</td>\n",
       "      <td>1.465775</td>\n",
       "      <td>-0.408687</td>\n",
       "      <td>0.703747</td>\n",
       "      <td>1.538654</td>\n",
       "      <td>-0.863497</td>\n",
       "      <td>-1.174175</td>\n",
       "      <td>0.355785</td>\n",
       "      <td>-0.355785</td>\n",
       "      <td>-0.048222</td>\n",
       "      <td>-0.08832</td>\n",
       "      <td>0.100808</td>\n",
       "      <td>0</td>\n",
       "    </tr>\n",
       "    <tr>\n",
       "      <th>3</th>\n",
       "      <td>-0.630179</td>\n",
       "      <td>0.501916</td>\n",
       "      <td>1.119966</td>\n",
       "      <td>-0.936026</td>\n",
       "      <td>1.096754</td>\n",
       "      <td>-1.420965</td>\n",
       "      <td>-0.649919</td>\n",
       "      <td>1.158082</td>\n",
       "      <td>-1.174175</td>\n",
       "      <td>0.355785</td>\n",
       "      <td>-0.355785</td>\n",
       "      <td>-0.048222</td>\n",
       "      <td>-0.08832</td>\n",
       "      <td>0.100808</td>\n",
       "      <td>0</td>\n",
       "    </tr>\n",
       "    <tr>\n",
       "      <th>4</th>\n",
       "      <td>1.056055</td>\n",
       "      <td>0.036433</td>\n",
       "      <td>0.453365</td>\n",
       "      <td>1.096267</td>\n",
       "      <td>-0.408687</td>\n",
       "      <td>0.703747</td>\n",
       "      <td>-0.649919</td>\n",
       "      <td>1.158082</td>\n",
       "      <td>-1.174175</td>\n",
       "      <td>0.355785</td>\n",
       "      <td>-0.355785</td>\n",
       "      <td>-0.048222</td>\n",
       "      <td>-0.08832</td>\n",
       "      <td>0.100808</td>\n",
       "      <td>0</td>\n",
       "    </tr>\n",
       "  </tbody>\n",
       "</table>\n",
       "</div>"
      ],
      "text/plain": [
       "   num_passengers  purchase_lead  length_of_stay  flight_hour  flight_day  \\\n",
       "0        1.056055      -0.246182        0.231165    -0.381764    1.096754   \n",
       "1       -0.630179       0.767907        0.305232    -1.120780    1.096754   \n",
       "2        1.056055       2.945705        0.453365     1.465775   -0.408687   \n",
       "3       -0.630179       0.501916        1.119966    -0.936026    1.096754   \n",
       "4        1.056055       0.036433        0.453365     1.096267   -0.408687   \n",
       "\n",
       "   wants_extra_baggage  wants_preferred_seat  wants_in_flight_meals  \\\n",
       "0             0.703747             -0.649919              -0.863497   \n",
       "1            -1.420965             -0.649919              -0.863497   \n",
       "2             0.703747              1.538654              -0.863497   \n",
       "3            -1.420965             -0.649919               1.158082   \n",
       "4             0.703747             -0.649919               1.158082   \n",
       "\n",
       "   flight_duration  Internet    Mobile  RoundTRip  OneWayTrip  CircleTrip  \\\n",
       "0        -1.174175  0.355785 -0.355785  -0.048222    -0.08832    0.100808   \n",
       "1        -1.174175  0.355785 -0.355785  -0.048222    -0.08832    0.100808   \n",
       "2        -1.174175  0.355785 -0.355785  -0.048222    -0.08832    0.100808   \n",
       "3        -1.174175  0.355785 -0.355785  -0.048222    -0.08832    0.100808   \n",
       "4        -1.174175  0.355785 -0.355785  -0.048222    -0.08832    0.100808   \n",
       "\n",
       "   label  \n",
       "0      0  \n",
       "1      0  \n",
       "2      0  \n",
       "3      0  \n",
       "4      0  "
      ]
     },
     "execution_count": 53,
     "metadata": {},
     "output_type": "execute_result"
    }
   ],
   "source": [
    "\n",
    "scaled_df['label']  = label\n",
    "\n",
    "\n",
    "\n",
    "scaled_df.head()"
   ]
  },
  {
   "cell_type": "code",
   "execution_count": 54,
   "metadata": {},
   "outputs": [],
   "source": [
    "from sklearn.model_selection import train_test_split\n",
    "\n",
    "X = scaled_df.iloc[:,:-1]\n",
    "y = scaled_df['label']\n",
    "\n",
    "X_train, X_test, y_train, y_test = train_test_split(X.to_numpy(), y.to_numpy(), test_size=0.20, random_state=42)"
   ]
  },
  {
   "cell_type": "code",
   "execution_count": 56,
   "metadata": {},
   "outputs": [
    {
     "name": "stdout",
     "output_type": "stream",
     "text": [
      "Note: you may need to restart the kernel to use updated packages.\n"
     ]
    }
   ],
   "source": [
    "pip install yellowbrick --quiet"
   ]
  },
  {
   "cell_type": "code",
   "execution_count": 57,
   "metadata": {},
   "outputs": [],
   "source": [
    "from sklearn.ensemble import RandomForestClassifier\n",
    "from sklearn.linear_model import LogisticRegression\n",
    "from sklearn.metrics import accuracy_score\n",
    "from sklearn.metrics import f1_score\n",
    "from sklearn.metrics import precision_score\n",
    "from sklearn.metrics import recall_score\n",
    "from sklearn.inspection import permutation_importance\n",
    "\n",
    "from yellowbrick.classifier import ConfusionMatrix\n",
    "from sklearn.model_selection import GridSearchCV,  RepeatedStratifiedKFold"
   ]
  },
  {
   "cell_type": "code",
   "execution_count": 59,
   "metadata": {},
   "outputs": [],
   "source": [
    "\"\"\"\n",
    "    Create functions to fit and predict the values of whether customer would complete the booking.\n",
    "    Also functions with metrics to evaluate the model prediction.\n",
    "\"\"\"\n",
    "\n",
    "def model_fit_predict(model, X, y, X_predict):\n",
    "    model.fit(X, y)\n",
    "    return model.predict(X_predict)\n",
    "\n",
    "def acc_score(y_true, y_pred):\n",
    "    return accuracy_score(y_true, y_pred)\n",
    "\n",
    "def pre_score(y_true, y_pred):\n",
    "    return precision_score(y_true, y_pred)\n",
    "\n",
    "def f_score(y_true, y_pred):\n",
    "    return f1_score(y_true, y_pred)"
   ]
  },
  {
   "cell_type": "markdown",
   "metadata": {},
   "source": [
    "## Random Forest Classifier"
   ]
  },
  {
   "cell_type": "code",
   "execution_count": 60,
   "metadata": {},
   "outputs": [],
   "source": [
    "#create an instance of the classifier and fit the training data\n",
    "\n",
    "clf_rf = RandomForestClassifier(max_depth =50 , min_samples_split=5,random_state=0)"
   ]
  },
  {
   "cell_type": "markdown",
   "metadata": {},
   "source": [
    "### Checking Training accuracy"
   ]
  },
  {
   "cell_type": "code",
   "execution_count": 61,
   "metadata": {},
   "outputs": [
    {
     "name": "stdout",
     "output_type": "stream",
     "text": [
      "Accuracy, precision and f1-score for training data are 0.93, 1.0 and 0.7 respectively\n"
     ]
    }
   ],
   "source": [
    "y_pred_train = model_fit_predict(clf_rf, X_train, y_train, X_train)\n",
    "set(y_pred_train)\n",
    "\n",
    "#f1 score for training data\n",
    "f1 = round(f1_score(y_train, y_pred_train),2) \n",
    "\n",
    "#accuracy score for training data\n",
    "acc = round(accuracy_score(y_train, y_pred_train),2) \n",
    "\n",
    "#precision score for training data\n",
    "pre = round(precision_score(y_train, y_pred_train),2) \n",
    "\n",
    "print(f\"Accuracy, precision and f1-score for training data are {acc}, {pre} and {f1} respectively\")"
   ]
  },
  {
   "cell_type": "code",
   "execution_count": 62,
   "metadata": {},
   "outputs": [
    {
     "data": {
      "text/plain": [
       "0.8529"
      ]
     },
     "execution_count": 62,
     "metadata": {},
     "output_type": "execute_result"
    },
    {
     "data": {
      "image/png": "[encoded data removed]",
      "text/plain": [
       "<Figure size 800x550 with 1 Axes>"
      ]
     },
     "metadata": {},
     "output_type": "display_data"
    }
   ],
   "source": [
    "cm = ConfusionMatrix(clf_rf, classes=[0,1])\n",
    "cm.fit(X_train, y_train)\n",
    "\n",
    "cm.score(X_test, y_test)"
   ]
  },
  {
   "cell_type": "code",
   "execution_count": 63,
   "metadata": {},
   "outputs": [
    {
     "data": {
      "text/plain": [
       "Text(0.5, 0, 'Random Forest Feature Importance')"
      ]
     },
     "execution_count": 63,
     "metadata": {},
     "output_type": "execute_result"
    },
    {
     "data": {
      "image/png": "[encoded data removed]",
      "text/plain": [
       "<Figure size 1000x500 with 1 Axes>"
      ]
     },
     "metadata": {},
     "output_type": "display_data"
    }
   ],
   "source": [
    "plt.figure(figsize=(10,5))\n",
    "sorted_idx = clf_rf.feature_importances_.argsort()\n",
    "plt.barh(scaled_df.iloc[:,:-1].columns[sorted_idx], clf_rf.feature_importances_[sorted_idx])\n",
    "plt.xlabel(\"Random Forest Feature Importance\")"
   ]
  },
  {
   "cell_type": "markdown",
   "metadata": {},
   "source": [
    "A significant issue contributing to the lower F1 score is the presence of class imbalance in the dataset. The instances classified as 0 significantly outnumber those classified as 1. To address this, we could consider reducing the number of instances classified as 0, bringing them closer in quantity to the number of instances classified as 1."
   ]
  },
  {
   "cell_type": "markdown",
   "metadata": {},
   "source": [
    "### Balancing the Dataset"
   ]
  },
  {
   "cell_type": "code",
   "execution_count": 66,
   "metadata": {},
   "outputs": [
    {
     "data": {
      "text/plain": [
       "label\n",
       "0    42522\n",
       "1     7478\n",
       "Name: count, dtype: int64"
      ]
     },
     "execution_count": 66,
     "metadata": {},
     "output_type": "execute_result"
    }
   ],
   "source": [
    "scaled_df.label.value_counts()"
   ]
  },
  {
   "cell_type": "code",
   "execution_count": 68,
   "metadata": {},
   "outputs": [],
   "source": [
    "#create a dataframe having all labels 0 with 10000 samples\n",
    "\n",
    "scaled_df_0 = scaled_df[scaled_df.label == 0].sample(n=8000)"
   ]
  },
  {
   "cell_type": "code",
   "execution_count": 69,
   "metadata": {},
   "outputs": [],
   "source": [
    "#concatenate the two dataframee, one havng all labels 0 and other having all labels as 1\n",
    "\n",
    "scaled_df_new = pd.concat([scaled_df[scaled_df.label==1], scaled_df_0], ignore_index=True)"
   ]
  },
  {
   "cell_type": "code",
   "execution_count": 72,
   "metadata": {},
   "outputs": [
    {
     "data": {
      "text/html": [
       "<div>\n",
       "<style scoped>\n",
       "    .dataframe tbody tr th:only-of-type {\n",
       "        vertical-align: middle;\n",
       "    }\n",
       "\n",
       "    .dataframe tbody tr th {\n",
       "        vertical-align: top;\n",
       "    }\n",
       "\n",
       "    .dataframe thead th {\n",
       "        text-align: right;\n",
       "    }\n",
       "</style>\n",
       "<table border=\"1\" class=\"dataframe\">\n",
       "  <thead>\n",
       "    <tr style=\"text-align: right;\">\n",
       "      <th></th>\n",
       "      <th>num_passengers</th>\n",
       "      <th>purchase_lead</th>\n",
       "      <th>length_of_stay</th>\n",
       "      <th>flight_hour</th>\n",
       "      <th>flight_day</th>\n",
       "      <th>wants_extra_baggage</th>\n",
       "      <th>wants_preferred_seat</th>\n",
       "      <th>wants_in_flight_meals</th>\n",
       "      <th>flight_duration</th>\n",
       "      <th>Internet</th>\n",
       "      <th>Mobile</th>\n",
       "      <th>RoundTRip</th>\n",
       "      <th>OneWayTrip</th>\n",
       "      <th>CircleTrip</th>\n",
       "      <th>label</th>\n",
       "    </tr>\n",
       "  </thead>\n",
       "  <tbody>\n",
       "    <tr>\n",
       "      <th>0</th>\n",
       "      <td>-0.630179</td>\n",
       "      <td>-0.063314</td>\n",
       "      <td>-0.953902</td>\n",
       "      <td>0.542005</td>\n",
       "      <td>0.594940</td>\n",
       "      <td>-1.420965</td>\n",
       "      <td>-0.649919</td>\n",
       "      <td>-0.863497</td>\n",
       "      <td>1.037139</td>\n",
       "      <td>0.355785</td>\n",
       "      <td>-0.355785</td>\n",
       "      <td>-0.048222</td>\n",
       "      <td>-0.08832</td>\n",
       "      <td>0.100808</td>\n",
       "      <td>1</td>\n",
       "    </tr>\n",
       "    <tr>\n",
       "      <th>1</th>\n",
       "      <td>-0.630179</td>\n",
       "      <td>-0.894534</td>\n",
       "      <td>0.601499</td>\n",
       "      <td>-0.936026</td>\n",
       "      <td>0.594940</td>\n",
       "      <td>0.703747</td>\n",
       "      <td>-0.649919</td>\n",
       "      <td>1.158082</td>\n",
       "      <td>-1.107368</td>\n",
       "      <td>0.355785</td>\n",
       "      <td>-0.355785</td>\n",
       "      <td>-0.048222</td>\n",
       "      <td>-0.08832</td>\n",
       "      <td>0.100808</td>\n",
       "      <td>1</td>\n",
       "    </tr>\n",
       "    <tr>\n",
       "      <th>2</th>\n",
       "      <td>-0.630179</td>\n",
       "      <td>-0.828037</td>\n",
       "      <td>2.453167</td>\n",
       "      <td>-0.012257</td>\n",
       "      <td>-0.408687</td>\n",
       "      <td>0.703747</td>\n",
       "      <td>1.538654</td>\n",
       "      <td>1.158082</td>\n",
       "      <td>-1.688589</td>\n",
       "      <td>0.355785</td>\n",
       "      <td>-0.355785</td>\n",
       "      <td>-0.048222</td>\n",
       "      <td>-0.08832</td>\n",
       "      <td>0.100808</td>\n",
       "      <td>1</td>\n",
       "    </tr>\n",
       "    <tr>\n",
       "      <th>3</th>\n",
       "      <td>-0.630179</td>\n",
       "      <td>-0.994281</td>\n",
       "      <td>-0.805769</td>\n",
       "      <td>0.542005</td>\n",
       "      <td>-0.408687</td>\n",
       "      <td>0.703747</td>\n",
       "      <td>-0.649919</td>\n",
       "      <td>1.158082</td>\n",
       "      <td>0.870121</td>\n",
       "      <td>0.355785</td>\n",
       "      <td>-0.355785</td>\n",
       "      <td>-0.048222</td>\n",
       "      <td>-0.08832</td>\n",
       "      <td>0.100808</td>\n",
       "      <td>0</td>\n",
       "    </tr>\n",
       "    <tr>\n",
       "      <th>4</th>\n",
       "      <td>1.056055</td>\n",
       "      <td>0.269174</td>\n",
       "      <td>-0.731702</td>\n",
       "      <td>-1.675042</td>\n",
       "      <td>-1.412314</td>\n",
       "      <td>0.703747</td>\n",
       "      <td>1.538654</td>\n",
       "      <td>-0.863497</td>\n",
       "      <td>0.870121</td>\n",
       "      <td>-2.810688</td>\n",
       "      <td>2.810688</td>\n",
       "      <td>-0.048222</td>\n",
       "      <td>-0.08832</td>\n",
       "      <td>0.100808</td>\n",
       "      <td>1</td>\n",
       "    </tr>\n",
       "  </tbody>\n",
       "</table>\n",
       "</div>"
      ],
      "text/plain": [
       "   num_passengers  purchase_lead  length_of_stay  flight_hour  flight_day  \\\n",
       "0       -0.630179      -0.063314       -0.953902     0.542005    0.594940   \n",
       "1       -0.630179      -0.894534        0.601499    -0.936026    0.594940   \n",
       "2       -0.630179      -0.828037        2.453167    -0.012257   -0.408687   \n",
       "3       -0.630179      -0.994281       -0.805769     0.542005   -0.408687   \n",
       "4        1.056055       0.269174       -0.731702    -1.675042   -1.412314   \n",
       "\n",
       "   wants_extra_baggage  wants_preferred_seat  wants_in_flight_meals  \\\n",
       "0            -1.420965             -0.649919              -0.863497   \n",
       "1             0.703747             -0.649919               1.158082   \n",
       "2             0.703747              1.538654               1.158082   \n",
       "3             0.703747             -0.649919               1.158082   \n",
       "4             0.703747              1.538654              -0.863497   \n",
       "\n",
       "   flight_duration  Internet    Mobile  RoundTRip  OneWayTrip  CircleTrip  \\\n",
       "0         1.037139  0.355785 -0.355785  -0.048222    -0.08832    0.100808   \n",
       "1        -1.107368  0.355785 -0.355785  -0.048222    -0.08832    0.100808   \n",
       "2        -1.688589  0.355785 -0.355785  -0.048222    -0.08832    0.100808   \n",
       "3         0.870121  0.355785 -0.355785  -0.048222    -0.08832    0.100808   \n",
       "4         0.870121 -2.810688  2.810688  -0.048222    -0.08832    0.100808   \n",
       "\n",
       "   label  \n",
       "0      1  \n",
       "1      1  \n",
       "2      1  \n",
       "3      0  \n",
       "4      1  "
      ]
     },
     "execution_count": 72,
     "metadata": {},
     "output_type": "execute_result"
    }
   ],
   "source": [
    "#shuffle the dataframe rows\n",
    "\n",
    "scaled_df_new = scaled_df_new.sample(frac = 1).reset_index(drop=True)\n",
    "\n",
    "scaled_df_new.head()"
   ]
  },
  {
   "cell_type": "code",
   "execution_count": 73,
   "metadata": {},
   "outputs": [],
   "source": [
    "X = scaled_df_new.iloc[:,:-1]\n",
    "y = scaled_df_new['label']\n",
    "\n",
    "X_train, X_test, y_train, y_test = train_test_split(X.to_numpy(), y.to_numpy(), test_size=0.20, random_state=42)"
   ]
  },
  {
   "cell_type": "code",
   "execution_count": 74,
   "metadata": {},
   "outputs": [],
   "source": [
    "#create an instance of the classifier and fit the training data\n",
    "\n",
    "clf_rf = RandomForestClassifier(n_estimators=50,max_depth =50 , min_samples_split=5,random_state=0)"
   ]
  },
  {
   "cell_type": "code",
   "execution_count": 75,
   "metadata": {},
   "outputs": [
    {
     "name": "stdout",
     "output_type": "stream",
     "text": [
      "Accuracy, precision, recall and f1-score for training data are 0.64, 0.64, 0.59, 0.67 and 0.61 respectively\n"
     ]
    }
   ],
   "source": [
    "y_pred_test = model_fit_predict(clf_rf, X_train, y_train, X_test)\n",
    "\n",
    "#f1 score for training data\n",
    "f1 = round(f1_score(y_test, y_pred_test),2) \n",
    "\n",
    "#accuracy score for training data\n",
    "acc = round(accuracy_score(y_test, y_pred_test),2) \n",
    "\n",
    "#precision score for training data\n",
    "pre = round(precision_score(y_test, y_pred_test),2) \n",
    "\n",
    "recall = round(recall_score(y_test, y_pred_test),2)\n",
    "\n",
    "specificity = round(recall_score(y_test, y_pred_test, pos_label=0),2)\n",
    "\n",
    "print(f\"Accuracy, precision, recall and f1-score for training data are {acc}, {pre}, {recall}, {specificity} and {f1} respectively\") "
   ]
  },
  {
   "cell_type": "code",
   "execution_count": 76,
   "metadata": {},
   "outputs": [
    {
     "data": {
      "text/plain": [
       "0.6350129198966409"
      ]
     },
     "execution_count": 76,
     "metadata": {},
     "output_type": "execute_result"
    },
    {
     "data": {
      "image/png": "[encoded data removed]",
      "text/plain": [
       "<Figure size 800x550 with 1 Axes>"
      ]
     },
     "metadata": {},
     "output_type": "display_data"
    }
   ],
   "source": [
    "cm = ConfusionMatrix(clf_rf, classes=[0,1])\n",
    "cm.fit(X_train, y_train)\n",
    "\n",
    "cm.score(X_test, y_test)"
   ]
  },
  {
   "cell_type": "code",
   "execution_count": 77,
   "metadata": {},
   "outputs": [
    {
     "data": {
      "text/plain": [
       "Text(0.5, 0, 'Random Forest Feature Importance')"
      ]
     },
     "execution_count": 77,
     "metadata": {},
     "output_type": "execute_result"
    },
    {
     "data": {
      "image/png": "[encoded data removed]",
      "text/plain": [
       "<Figure size 1000x800 with 1 Axes>"
      ]
     },
     "metadata": {},
     "output_type": "display_data"
    }
   ],
   "source": [
    "plt.figure(figsize=(10,8))\n",
    "sorted_idx = clf_rf.feature_importances_.argsort()\n",
    "plt.barh(scaled_df.iloc[:,:-1].columns[sorted_idx], clf_rf.feature_importances_[sorted_idx])\n",
    "plt.xlabel(\"Random Forest Feature Importance\")"
   ]
  }
 ],
 "metadata": {
  "kernelspec": {
   "display_name": "Python 3",
   "language": "python",
   "name": "python3"
  },
  "language_info": {
   "codemirror_mode": {
    "name": "ipython",
    "version": 3
   },
   "file_extension": ".py",
   "mimetype": "text/x-python",
   "name": "python",
   "nbconvert_exporter": "python",
   "pygments_lexer": "ipython3",
   "version": "3.11.1"
  },
  "orig_nbformat": 4
 },
 "nbformat": 4,
 "nbformat_minor": 2
}
